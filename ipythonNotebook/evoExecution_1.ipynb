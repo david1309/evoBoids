{
 "cells": [
  {
   "cell_type": "markdown",
   "metadata": {},
   "source": [
    "# Run boids simulation (Leader Main test)"
   ]
  },
  {
   "cell_type": "code",
   "execution_count": null,
   "metadata": {
    "collapsed": false
   },
   "outputs": [],
   "source": [
    "import os\n",
    "filepath='C:\\Users\\IVAN\\Desktop\\evoBoids\\evoBoids Code'\n",
    "os.chdir(filepath)\n",
    "\n",
    "%run boidsSimu.py 150 0.04 0.23 0.20 10.0 40 1 10\n"
   ]
  },
  {
   "cell_type": "markdown",
   "metadata": {},
   "source": [
    "# Run evoBoids evolution round:"
   ]
  },
  {
   "cell_type": "code",
   "execution_count": null,
   "metadata": {
    "collapsed": false,
    "scrolled": false
   },
   "outputs": [],
   "source": [
    "import os\n",
    "filepath='C:\\Users\\IVAN\\Desktop\\evoBoids\\evoBoids Code'\n",
    "os.chdir(filepath)\n",
    "\n",
    "%run evoBoids.py"
   ]
  },
  {
   "cell_type": "code",
   "execution_count": null,
   "metadata": {
    "collapsed": true
   },
   "outputs": [],
   "source": [
    "# SCRATCH PAD!!!"
   ]
  },
  {
   "cell_type": "code",
   "execution_count": null,
   "metadata": {
    "collapsed": false
   },
   "outputs": [],
   "source": [
    "------------------------------------------------------------------------\n",
    "------------------------------------------------------------------------\n",
    "\n",
    "* Play with: \n",
    "    >> evolution -> fitWeights, evoConfig,  neighRadii & crowdingThr & leaderW ranges\n",
    "    >> boidsSimu -->  specialRFact, maxVel( .. noBoids,goalRadii)\n",
    "\n",
    "------------------------------------------------------------------------\n",
    "------------------------------------------------------------------------"
   ]
  },
  {
   "cell_type": "markdown",
   "metadata": {},
   "source": [
    "# Upload Evolutionary Log"
   ]
  },
  {
   "cell_type": "code",
   "execution_count": null,
   "metadata": {
    "collapsed": false,
    "scrolled": true
   },
   "outputs": [],
   "source": [
    "import numpy as np \n",
    "import matplotlib.pyplot as plt\n",
    "import pickle\n",
    "import os\n",
    "import time\n",
    "\n",
    "\">>>>>>>>>>>>>>>>>>>>>>>>>>>>>> Import Simulation Script <<<<<<<<<<<<<<<<<<<<<<<<<<<<<\"   \n",
    "\n",
    "filepath='C:\\Users\\IVAN\\Desktop\\evoBoids\\evoBoids Code'\n",
    "os.chdir(filepath)\n",
    "\n",
    "import boidsSimuS # Static Leader Boid simulator library\n",
    "import boidsSimuP # Predator Boid simulator library\n",
    "boidsSimu = boidsSimuS\n",
    "\n",
    "\"Import populations genomes and evolution configuration\"\n",
    "f = open('C:\\Users\\IVAN\\Desktop\\evoBoids\\evoBoids Code\\evoLog\\evoLog_try646(1).pckl')\n",
    "lastPop,bestIndPerAll,evoConfig,fitHist,fitPlotData,bestIndPerGen,ellapsedT= pickle.load(f)\n",
    "f.close()\n",
    "maxFitHist , avgFitHist , minFitHist = fitPlotData\n",
    "popSize, generations,selectMethod,elitism,crossProb,mutProb,\\\n",
    "numRept,timeOutT,fitWeights = evoConfig\n",
    "# print \"Evolution time : %f \\n\" %ellapsedT\n",
    "print evoConfig\n",
    "print \"bestAgentChromosome :\"\n",
    "print \"neighRadii  cohW  repW  alignW crowdingThr leaderW \"\n",
    "print bestIndPerAll[0]\n",
    "\n",
    "\">>>>>>>>>>>>>>>>>>>>>>>>>>>>>>>>>>> Plot Fitnesses <<<<<<<<<<<<<<<<<<<<<<<<<<<><<<<<<\" \n",
    "plt.close(2)\n",
    "plt.figure(2)\n",
    "plt.xlabel('Genera|tions')\n",
    "plt.ylabel('Fitness')\n",
    "plt.title('Average Fitness per Evolved Generation')\n",
    "plt.grid(True)\n",
    "plt.gca().set_xlim(0,avgFitHist.shape[1]-1)\n",
    "plt.gca().set_ylim(0,1)\n",
    "plt.yticks(np.arange(0.0,1.0+0.25,0.1))\n",
    "plt.xticks(np.arange(0,(avgFitHist.shape[1]-1)+1,1))\n",
    "plt.pause(0.05)\n",
    "plt.ion()\n",
    "\n",
    "plotGen = np.arange(avgFitHist.shape[1])\n",
    "plt.plot(plotGen,maxFitHist[0,0::],marker = 'o',markerfacecolor = 'k',ms = 6.0, \\\n",
    "                                              color= 'm', linewidth = 2.5, label = \"Max.Fitness\")  \n",
    "plt.plot(plotGen,avgFitHist[0,0::],marker = 'o',markerfacecolor = 'k',ms = 6.0, \\\n",
    "                                              color= 'g', linewidth = 2.5, label = \"Avg.Fitness\")  \n",
    "plt.plot(plotGen,minFitHist[0,0::],marker = 'o',markerfacecolor = 'k',ms = 6.0, \\\n",
    "                                              color= 'r', linewidth = 2.5, label = \"Min.Fitness\")  \n",
    "\n",
    "plt.legend(bbox_to_anchor=(0,1.02,1,0.15),ncol=3, mode=\"expand\", borderaxespad=0.)\n",
    "plt.gcf().tight_layout(rect=[0,0,1,0.925])\n",
    "# bbox_to_anchor=(1.05, 1), loc=2, borderaxespad=0.0)\n",
    "plt.pause(0.05)\n",
    "plt.show()\n",
    "\n",
    "simu = raw_input(\"Simulate Agents: [Enter: Yes ;0: No]\")\n",
    "if not simu:\n",
    "    \n",
    "    \">>>>>>>>>>>>>>>>>>>>>>>>>>> Simulate best of each generation <<<<<<<<<<<<<<<<<<<<<<<<<\"    \n",
    "#     # Configure Simulation params.\n",
    "#     generation = avgFitHist.shape[1]-2\n",
    "#     percGenDisplay = 0.2\n",
    "#     visualON = 1\n",
    "\n",
    "#     # Obtain which generations to simulate\n",
    "#     if int((generation+2)*percGenDisplay):gens2show = np.arange(0,generation+2,int((generation+2)*percGenDisplay))\n",
    "#     else: gens2show = np.arange(0,(generation+2),1)\n",
    "\n",
    "#     if (generation+1) not in gens2show.tolist():\n",
    "#         gens2show = np.concatenate((gens2show,[generation+1]))\n",
    "            \n",
    "# #     gens2show = np.array([0,1,3,5,13,14]) # --> for try642\n",
    "# #     gens2show = np.array([0,4,7,12,17,27,34]) #--> for try7\n",
    "#     for index,val in np.ndenumerate(gens2show):\n",
    "#         cancel = raw_input(\"\\nInput: [Enter: to simulate generation %d ; 0: Cancel simulation ...\" %val)\n",
    "#         if cancel: break\n",
    "#         print \"Simulating generation No. %d\" %val\n",
    "##         time.sleep(3)        \n",
    "        \n",
    "#         simuParams = np.array([0,visualON,timeOutT], dtype= 'float64') \n",
    "#         simuParams = np.insert(simuParams,1,bestIndPerGen[val,:]).tolist() # insert in index=1 of simuParams\n",
    "#         fitVals = boidsSimu.main(simuParams)\n",
    "#         print \"Fitness values : \"\n",
    "#         print \"interCollV  medGRadiiV  deltaTV  numATgoalV\"\n",
    "#         print fitVals\n",
    "#         print \"Total fitness : %f \\n\" %fitWeights.dot(fitVals.transpose())\n",
    "\n",
    "    \">>>>>>>>>>>>>>>>>>>>>>>>>>>>>>> Simulate best OF best agents <<<<<<<<<<<<<<<<<<<<<<<<<<\"\n",
    "    visualON = 1\n",
    "    numBest = bestIndPerAll.shape[0]\n",
    "    timeOutT = 20\n",
    "    \n",
    "    bestIndPerAll[:,2] = 0.7\n",
    "    bestIndPerAll[:,4] = 30\n",
    "    \n",
    "    for ind in range(numBest):\n",
    "        cancel = raw_input(\"\\nInput: [Enter: to simulate best OF best agents ...\")\n",
    "        if cancel: break\n",
    "#         time.sleep(3) \n",
    "        \">>>>>>>>>>>>>>>>>>>>>>>>>>>>>>> ALWAYS Simulate BEST <<<<<<<<<<<<<<<<<<<<<<<<<<\"\n",
    "        ind = 0\n",
    "        simuParams = np.array([0,visualON,timeOutT], dtype= 'float64') \n",
    "        simuParams = np.insert(simuParams,1,bestIndPerAll[ind,:]).tolist() # insert in index=1 of simuParams\n",
    "        fitVals = boidsSimu.main(simuParams)\n",
    "        print \"Fitness values : \"\n",
    "        print \"interCollV  medGRadiiV  deltaTV  numATgoalV\"\n",
    "        print fitVals\n",
    "        print \"Total fitness : %f \\n\" %fitWeights.dot(fitVals.transpose())\n",
    "\n",
    "    \">>>>>>>>>>>>>>>>>>>>>>>>>>>>>>> Simulate IDEAL AGENT <<<<<<<<<<<<<<<<<<<<<<<<<<\"\n",
    "#     \"IDEAL Agent, only for DEBUGG\"\n",
    "#     casualAgentR = 10.0\n",
    "#     idealInd = np.array([casualAgentR*10, 4.0/100, 23.0/100, 90.0/100, casualAgentR*5, 10])\n",
    "#     x = 1\n",
    "#     timeOutT = 20\n",
    "#     while x: \n",
    "#         ideal = raw_input(\"Enter: to simulate IDEAL AGENT ; 0: Cancel simulation ...\")\n",
    "#         if ideal: break\n",
    "#         time.sleep(3) \n",
    "            \n",
    "#         simuParams = np.array([0,visualON,timeOutT], dtype= 'float64') \n",
    "#         simuParams = np.insert(simuParams,1,idealInd).tolist() # insert in index=1 of simuParams\n",
    "#         fitVals = boidsSimu.main(simuParams)\n",
    "#         print \"Fitness values : \"\n",
    "#         print \"interCollV  medGRadiiV  deltaTV  numATgoalV\"\n",
    "#         print fitVals\n",
    "#         print \"Total fitness : %f \\n\" %fitWeights.dot(fitVals.transpose())\n",
    "        \n",
    "\n",
    "raw_input(\"\\n... Enter to Close Plot ...\")\n",
    "plt.close(2)"
   ]
  }
 ],
 "metadata": {
  "kernelspec": {
   "display_name": "Python 2",
   "language": "python",
   "name": "python2"
  },
  "language_info": {
   "codemirror_mode": {
    "name": "ipython",
    "version": 2
   },
   "file_extension": ".py",
   "mimetype": "text/x-python",
   "name": "python",
   "nbconvert_exporter": "python",
   "pygments_lexer": "ipython2",
   "version": "2.7.11"
  }
 },
 "nbformat": 4,
 "nbformat_minor": 0
}
