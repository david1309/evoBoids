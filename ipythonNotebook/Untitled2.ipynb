{
 "cells": [
  {
   "cell_type": "code",
   "execution_count": null,
   "metadata": {
    "collapsed": false
   },
   "outputs": [
    {
     "name": "stdout",
     "output_type": "stream",
     "text": [
      "Do you want to load a SeedPopuation: [1:Yes ; 0:No]1\n",
      "Press ENTER to Load evoLog_try6.pck logFile or input the number of the desired logFile: 5\n",
      "\n",
      "Estimated Evolution time: 15750.000000 s  ... Press Enter to continue ...\n",
      "\n",
      "14.7037037037\n",
      "14.3333333333\n",
      "14.4285714286\n",
      "15.0\n",
      "5.0"
     ]
    }
   ],
   "source": [
    "import os\n",
    "filepath='C:\\Users\\IVAN\\Desktop\\evoBoids\\evoBoids Code'\n",
    "os.chdir(filepath)\n",
    "\n",
    "%run evoBoids.py"
   ]
  },
  {
   "cell_type": "code",
   "execution_count": 3,
   "metadata": {
    "collapsed": false
   },
   "outputs": [
    {
     "name": "stdout",
     "output_type": "stream",
     "text": [
      "[15, 25, ['roulette', 0.35], [1, 3], 0.85, [0.05, 0.6], 3, 10, array([[ 0.27,  0.38,  0.2 ,  0.15]])]\n",
      "Simulate Agents: [Enter: Yes ;0: No]\n",
      "Enter: to simulate IDEAL AGENT ; 0: Cancel simulation ...\n",
      "... Press enter to start simulation ...\n",
      "13.8571428571\n",
      "Fitness values : \n",
      "interCollV  medGRadiiV  deltaTV  numATgoalV\n",
      "[[ 0.84136546  0.99930509  0.81107386  0.92380952]]\n",
      "Total fitness : 0.907691 \n",
      "\n",
      "Enter: to simulate IDEAL AGENT ; 0: Cancel simulation ...}\n",
      "\n",
      "... Enter to Close Plot ...}\n"
     ]
    }
   ],
   "source": [
    "import numpy as np \n",
    "import matplotlib.pyplot as plt\n",
    "import pickle\n",
    "import os\n",
    "\n",
    "\">>>>>>>>>>>>>>>>>>>>>>>>>>>>>> Import Simulation Script <<<<<<<<<<<<<<<<<<<<<<<<<<<<<\"   \n",
    "\n",
    "filepath='C:\\Users\\IVAN\\Desktop\\evoBoids\\evoBoids Code'\n",
    "os.chdir(filepath)\n",
    "import boidsSimu # Boid simulator library\n",
    "\n",
    "\"Import populations genomes and evolution configuration\"\n",
    "f = open('C:\\Users\\IVAN\\Desktop\\evoBoids\\evoBoids Code\\evoLog\\evoLog_try5.pckl')\n",
    "lastPop,bestIndPerAll,evoConfig,fitHist,fitPlotData,bestIndPerGen,ellapsedT= pickle.load(f)\n",
    "f.close()\n",
    "maxFitHist , avgFitHist , minFitHist = fitPlotData\n",
    "popSize, generations,selectMethod,elitism,crossProb,mutProb,\\\n",
    "numRept,timeOutT,fitWeights = evoConfig\n",
    "print evoConfig\n",
    "# print \"Evolution time : %f \\n\" %ellapsedT\n",
    "\n",
    "\">>>>>>>>>>>>>>>>>>>>>>>>>>>>>>>>>>> Plot Fitnesses <<<<<<<<<<<<<<<<<<<<<<<<<<<><<<<<<\" \n",
    "plt.close(2)\n",
    "plt.figure(2)\n",
    "plt.xlabel('Genera|tions')\n",
    "plt.ylabel('Fitness')\n",
    "plt.title('Average Fitness per Evolved Generation')\n",
    "plt.grid(True)\n",
    "plt.gca().set_xlim(0,avgFitHist.shape[1]-1)\n",
    "plt.pause(0.05)\n",
    "plt.ion()\n",
    "\n",
    "plotGen = np.arange(avgFitHist.shape[1])\n",
    "plt.plot(plotGen,maxFitHist[0,0::],marker = 'o',markerfacecolor = 'k',ms = 6.0, \\\n",
    "                                              color= 'm', linewidth = 2.5, label = \"Max.Fitness\")  \n",
    "plt.plot(plotGen,avgFitHist[0,0::],marker = 'o',markerfacecolor = 'k',ms = 6.0, \\\n",
    "                                              color= 'g', linewidth = 2.5, label = \"Avg.Fitness\")  \n",
    "plt.plot(plotGen,minFitHist[0,0::],marker = 'o',markerfacecolor = 'k',ms = 6.0, \\\n",
    "                                              color= 'r', linewidth = 2.5, label = \"Min.Fitness\")  \n",
    "\n",
    "plt.legend(bbox_to_anchor=(0,1.02,1,0.15),ncol=3, mode=\"expand\", borderaxespad=0.)\n",
    "plt.gcf().tight_layout(rect=[0,0,1,0.925])\n",
    "# bbox_to_anchor=(1.05, 1), loc=2, borderaxespad=0.0)\n",
    "plt.pause(0.05)\n",
    "plt.show()\n",
    "\n",
    "\">>>>>>>>>>>>>>>>>>>>>>>>>>> Simulate best of each generation <<<<<<<<<<<<<<<<<<<<<<<<<\"\n",
    "simu = raw_input(\"Simulate Agents: [Enter: Yes ;0: No]\")\n",
    "\n",
    "if not simu:\n",
    "#     # Configure Simulation params.\n",
    "#     generation = avgFitHist.shape[1]-2\n",
    "#     percGenDisplay = 0.2\n",
    "#     visualON = 1\n",
    "\n",
    "#     # Obtain which generations to simulate\n",
    "#     if int((generation+2)*percGenDisplay):gens2show = np.arange(0,generation+2,int((generation+2)*percGenDisplay))\n",
    "#     else: gens2show = np.arange(0,(generation+2),1)\n",
    "\n",
    "#     if (generation+1) not in gens2show.tolist():\n",
    "#         gens2show = np.concatenate((gens2show,[generation+1]))\n",
    "        \n",
    "#     for index,val in np.ndenumerate(gens2show):\n",
    "#         cancel = raw_input(\"\\nInput: [Enter: to simulate generation %d ; 0: Cancel simulation ...\" %val)\n",
    "#         if cancel: break\n",
    "#         print \"Simulating generation No. %d\" %val\n",
    "        \n",
    "#         simuParams = np.array([0,visualON,timeOutT], dtype= 'float64') \n",
    "#         simuParams = np.insert(simuParams,1,bestIndPerGen[val,:]).tolist() # insert in index=1 of simuParams\n",
    "#         fitVals = boidsSimu.main(simuParams)\n",
    "#         print \"Fitness values : \"\n",
    "#         print \"interCollV  medGRadiiV  deltaTV  numATgoalV\"\n",
    "#         print fitVals\n",
    "#         print \"Total fitness : %f \\n\" %fitWeights.dot(fitVals.transpose())\n",
    "\n",
    "    \">>>>>>>>>>>>>>>>>>>>>>>>>>>>>>> Simulate IDEAL AGENT <<<<<<<<<<<<<<<<<<<<<<<<<<\"\n",
    "    \"IDEAL Agent, only for DEBUGG\"\n",
    "    visualON = 1\n",
    "    casualAgentR = 10.0\n",
    "    idealInd = np.array([casualAgentR*10, 4.0/100, 23.0/100, 90.0/100, casualAgentR*5, 5])\n",
    "    x = 1\n",
    "    timeOutT = 10\n",
    "    while x: \n",
    "        ideal = raw_input(\"Enter: to simulate IDEAL AGENT ; 0: Cancel simulation ...\")\n",
    "        if ideal: break\n",
    "            \n",
    "        simuParams = np.array([0,visualON,timeOutT], dtype= 'float64') \n",
    "        simuParams = np.insert(simuParams,1,idealInd).tolist() # insert in index=1 of simuParams\n",
    "        fitVals = boidsSimu.main(simuParams)\n",
    "        print \"Fitness values : \"\n",
    "        print \"interCollV  medGRadiiV  deltaTV  numATgoalV\"\n",
    "        print fitVals\n",
    "        print \"Total fitness : %f \\n\" %fitWeights.dot(fitVals.transpose())\n",
    "        \n",
    "\n",
    "raw_input(\"\\n... Enter to Close Plot ...\")\n",
    "plt.close(2)\n"
   ]
  }
 ],
 "metadata": {
  "kernelspec": {
   "display_name": "Python 2",
   "language": "python",
   "name": "python2"
  },
  "language_info": {
   "codemirror_mode": {
    "name": "ipython",
    "version": 2
   },
   "file_extension": ".py",
   "mimetype": "text/x-python",
   "name": "python",
   "nbconvert_exporter": "python",
   "pygments_lexer": "ipython2",
   "version": "2.7.11"
  }
 },
 "nbformat": 4,
 "nbformat_minor": 0
}
