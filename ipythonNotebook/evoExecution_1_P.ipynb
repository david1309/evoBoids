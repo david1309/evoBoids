{
 "cells": [
  {
   "cell_type": "markdown",
   "metadata": {},
   "source": [
    "# Run boids simulation (Predator Main test)"
   ]
  },
  {
   "cell_type": "code",
   "execution_count": 223,
   "metadata": {
    "collapsed": false,
    "scrolled": false
   },
   "outputs": [],
   "source": [
    "import os\n",
    "filepath='C:\\Users\\IVAN\\Desktop\\evoBoids\\evoBoids Code'\n",
    "os.chdir(filepath)\n",
    "\n",
    "# *** Random Individual ***\n",
    "# %run boidsSimuP.py 30 0.04 0.63 0.90 50.0 10 5 1 20\n",
    "\n",
    "# *** (EVOLVED) Individual that groups in a swarm and follows leader ***\n",
    "%run boidsSimuP.py 1.50e+02 4.71e-02 1.00e+00 7.41e-01 3.02e+01 40.783e+00 4 1 60\n",
    "# Original Chromesome: 1.50e+02 2.71e-02 1.00e+00 7.41e-01 3.02e+01 5.783e+00"
   ]
  },
  {
   "cell_type": "code",
   "execution_count": null,
   "metadata": {
    "collapsed": true
   },
   "outputs": [],
   "source": [
    "------------------------------------------------------------------------\n",
    "------------------------------------------------------------------------\n",
    "\n",
    "* Play with: \n",
    "    >> boidsSimu -->  predSight,velBoost,deltaBoost,maxVel\n",
    "                      Others --> noBoids, maxDeltaVel\n",
    "\n",
    "------------------------------------------------------------------------\n",
    "------------------------------------------------------------------------\n",
    "\n",
    "* ToDo:\n",
    "    >> change the method of predators speedReduction\n",
    "    >> change hunted colors\n",
    "    >> leader agent can revive hunted casual agents\n",
    "    >>>>>>>>>>\n",
    "    >> when depredator in neigh of casual agetns == reduce health (fitness)\n",
    "\n",
    "------------------------------------------------------------------------\n",
    "------------------------------------------------------------------------\n",
    "\n",
    "* To Commit\n",
    "\n",
    "Depredator speed Reduction:\n",
    "    \n",
    "> Depredator simulation (@boidsSimuP.py):\n",
    "    >> Negative hunting speeds ('velBoost') where being generated. Already corrected\n",
    "    this by setting velBoost to zero if its < zero\n",
    "            \n",
    "    >> Graphic interface update : \n",
    "        >>> display velBoost value in central text\n",
    "        >>> display current score (Hunted Agents VS Living Agents)\n",
    "        >>> End of simulation triggered by two events: 1) All agents\n",
    "            are hunted -> Predator wins ; 2) timeOut, agents w/ the \n",
    "            largest ammount of agents winds\n",
    "        >>> At the end of the game a gradient of colors is displayed\n",
    "            Redish for Predators triumph and Bluish for Leader triumph\n",
    "    \n",
    "    \n",
    "------------------------------------------------------------------------\n",
    "------------------------------------------------------------------------"
   ]
  }
 ],
 "metadata": {
  "kernelspec": {
   "display_name": "Python 2",
   "language": "python",
   "name": "python2"
  },
  "language_info": {
   "codemirror_mode": {
    "name": "ipython",
    "version": 2
   },
   "file_extension": ".py",
   "mimetype": "text/x-python",
   "name": "python",
   "nbconvert_exporter": "python",
   "pygments_lexer": "ipython2",
   "version": "2.7.11"
  }
 },
 "nbformat": 4,
 "nbformat_minor": 0
}
