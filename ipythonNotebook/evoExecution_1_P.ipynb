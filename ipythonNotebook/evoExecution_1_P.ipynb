{
 "cells": [
  {
   "cell_type": "markdown",
   "metadata": {},
   "source": [
    "# Run boids simulation (Predator Main test)"
   ]
  },
  {
   "cell_type": "code",
   "execution_count": 141,
   "metadata": {
    "collapsed": false,
    "scrolled": false
   },
   "outputs": [],
   "source": [
    "import os\n",
    "filepath='C:\\Users\\IVAN\\Desktop\\evoBoids\\evoBoids Code'\n",
    "os.chdir(filepath)\n",
    "\n",
    "# *** Random Individual ***\n",
    "# %run boidsSimuP.py 30 0.04 0.63 0.90 50.0 10 5 1 20\n",
    "\n",
    "# *** (EVOLVED) Individual that groups in a swarm and follows leader ***\n",
    "%run boidsSimuAB.py 1.50e+02 5.71e-02 1.00e+00 7.41e-01 3.02e+01 5.783e+00 3 3 1 60\n",
    "# Original Chromesome: 1.50e+02 2.71e-02 1.00e+00 7.41e-01 3.02e+01 5.783e+00"
   ]
  },
  {
   "cell_type": "markdown",
   "metadata": {},
   "source": [
    "# ScratchPad"
   ]
  },
  {
   "cell_type": "code",
   "execution_count": null,
   "metadata": {
    "collapsed": false
   },
   "outputs": [],
   "source": [
    "import pygame\n",
    "# pygame.font.get_fonts() \n",
    "# leadContExist = ('leadContAgent' in locals() or 'leadContAgent' in globals())"
   ]
  },
  {
   "cell_type": "markdown",
   "metadata": {},
   "source": [
    "# Useful CodeNotes "
   ]
  },
  {
   "cell_type": "code",
   "execution_count": null,
   "metadata": {
    "collapsed": false
   },
   "outputs": [],
   "source": [
    "------------------------------------------------------------------------\n",
    "------------------------------------------------------------------------\n",
    "\n",
    "* Play with: \n",
    "    >> boidsSimu -->  predSight,velBoost,deltaBoost,maxVel\n",
    "                      Others --> noBoids, noAutoPred, noAutoLead maxDeltaVel\n",
    "    \" noBoids - Casual Agents {white ring and small rainbow interior}\"\n",
    "    \" noAutoPred - Autonomous 'intelligent' hunting predators {orange ring and Red interior} \"\n",
    "    \" noAutoLead - Autonomous 'foolish' Auxilliary Leader Agents that help to revive the dead\n",
    "                   \" Casual Agents {clear blue ring and blue interior}\"\n",
    "    \" contSpecial - Leader OR Predator mouse controled agent {green ring and blue interior}\"\n",
    "  \n",
    "------------------------------------------------------------------------\n",
    "------------------------------------------------------------------------\n",
    "\n",
    "* ToDo:\n",
    "    >> IMPROVE: how guider agents make the desicion either to wait for other boids or to\n",
    "    go towards the GOAl\n",
    "    >> Obsacle timer: obstacle reamin for a limited time. After the time runs out they disappear\n",
    "    and are restored as available resources\n",
    "    >>>>>>>>>>>>>>>>>>>>>>>>>>>>>>>>>>>>>>>>>>>>>>>>>>>>>>>>>>>\n",
    "    >> predatorAgent can kill leaderAgent if not surrounded by > N-casual boids\n",
    "    >> Give controlledLeader  revival capabilities. Its probability of performing a revival action\n",
    "    increases proportional to the ammount of agents that surround hi, (this, to not make it so \n",
    "    straight forward to revive a dead agent)         \n",
    "    >>>>>>>>>>>>>>>>>>>>>>>>>>>>>>>>>>>>>>>>>>>>>>>>>>>>>>>>>>>\n",
    "    >> change condition that reduces persistance leve, to a condition which depends on the  \n",
    "    no. of times predator adquires hunting behavior(i.e.move reduction to 'move2center')\n",
    "    \n",
    "------------------------------------------------------------------------\n",
    "------------------------------------------------------------------------\n",
    "    \n",
    "* Game Plays:\n",
    "    > As Leader:\n",
    "        >> Full Game : Guide the Swarm + Slight Defense + Assisted Revival      \n",
    "        >> Revive the Swarm (enabling controleLeader revival)\n",
    "        >> Defend the Swarm (increasing factP2L)\n",
    "        \n",
    "    > As Predator:                \n",
    "        >> Hunt the Swarm : win agains autonomous assistantAgents\n",
    "        >> combatGuiderAgent\n",
    "    \n",
    "    > Other:    \n",
    "        >> Autonomatic (no user) \n",
    "        \n",
    "------------------------------------------------------------------------\n",
    "------------------------------------------------------------------------\n",
    "\n",
    "* To Commit\n",
    "\n",
    "Gameplay Combination && NEW GAMEPLAY: go from A-B && obstacles positioning && gravity motion\n",
    "    \n",
    "    > Depredator simulation (@boidsSimuAB.py):\n",
    "        \n",
    "        >> New GAMEPLAY: A new character is introduced, the guiderAgent (yellow ring). His\n",
    "        function is to take the swarm from point A (left side) to B (right side). controlled or auto \n",
    "        Predator hunts casualBoids to minimize numAgentsATgoal and has a limited number of resoruces\n",
    "        (OBSTACLES) that will difficult  the translation from point A-to-B\n",
    "        \n",
    "        guiderAgent has the following behaviors:\n",
    "            \n",
    "            >>> GlobalVision of casualAgents and the Goal (all the time)\n",
    "            >>> Has an extra attraction for the goal (its actually a static controlledLeader painted Green)\n",
    "            >>> Has an extra attraction for the casualBoids. This enables that when the predators attacks\n",
    "            and makes the flock disperse, the guider agent goes back and tries to re-group them\n",
    "            >>> The guiderAgent can revive dead casualBoids. Its a \"random\" revival, he actually doesnt\n",
    "            have a controller which directly targets to revive the agents\n",
    "            >>> the game end when:\n",
    "                >>>> user wins when: Predator agent has hunted all of the casualAgents\n",
    "                >>>> guiderAgents wins when: At least one casualBoidsWHICH IS BEING GUIDED BY THE \n",
    "                GUIDERAGENT reaches the Goal(i.e. if casualBoids is in 'boidsATgoal' && 'boidsATguide')\n",
    "            \n",
    "        >> Obstacles:  When using a controlled agent each agent has a limited ammount (resources)\n",
    "        of obstacles (green dots) that he can position in a estrategic manner to help him maximize\n",
    "        its objective:\n",
    "            \n",
    "            >>> Obstacles are avoided by: casual, assitant, guider and autoPredator agents \n",
    "                \n",
    "        >> Obstacle Usage:\n",
    "                            \n",
    "            >>> As Predator:\n",
    "                >>>> Prey Corral: If there are to many boids, chase different individual boids trying to \n",
    "                gather them all into groups. Then take each sub group to a corner and position obstacles\n",
    "                arround them in corral. This makes it easier to hunt the boids, by simply going to each\n",
    "                corral and hunting them all.\n",
    "                >>>> Assistant lock down: use obstacles to lock in the assitantBoids, preventing the \n",
    "                revival of the already hunted boids.\n",
    "                >>>> Guidance barricades: position obstacles in strategic places in order to slow down \n",
    "                the speed at which the guider (and its boids) advance towards the goal. Increasing you \n",
    "                probabilities of huting all the boids before they reach their goal destination.\n",
    "\n",
    "            >>> As Leader:\n",
    "                >>>> Boids Shield: Gather together a group of boids and the position a shield arround them.\n",
    "                Protecting them and preventing that the autoPredators hunt them down.\n",
    "                >>>> autoPredator lock down: use obstacles to lock in the autoPredators, preventing them\n",
    "                to hunt down your boids\n",
    "\n",
    "                >>>> Changed casualBoids Size to create smaller agents    \n",
    "            \n",
    "\n",
    "        >> Gravity Motion : controlledAgents have a \"momentum control \" in which the can change the\n",
    "            direction of the velocity vector in order to affect the characters position. User DOESNT\n",
    "            have a DIRECT position control. \n",
    "            \n",
    "                >>> Low gravity provides a more indirect control, like if the character where in a viscous medium.\n",
    "                >>> High gravity provides a more explicit control, basically directly moving the character to \n",
    "                the mouse position\n",
    "\n",
    "        \n",
    "    \n",
    "        \n",
    "------------------------------------------------------------------------\n",
    "------------------------------------------------------------------------"
   ]
  }
 ],
 "metadata": {
  "kernelspec": {
   "display_name": "Python 2",
   "language": "python",
   "name": "python2"
  },
  "language_info": {
   "codemirror_mode": {
    "name": "ipython",
    "version": 2
   },
   "file_extension": ".py",
   "mimetype": "text/x-python",
   "name": "python",
   "nbconvert_exporter": "python",
   "pygments_lexer": "ipython2",
   "version": "2.7.11"
  }
 },
 "nbformat": 4,
 "nbformat_minor": 0
}
