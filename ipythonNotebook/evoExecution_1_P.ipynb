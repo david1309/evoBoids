{
 "cells": [
  {
   "cell_type": "markdown",
   "metadata": {},
   "source": [
    "# Run boids simulation (Predator Main test)"
   ]
  },
  {
   "cell_type": "code",
   "execution_count": 79,
   "metadata": {
    "collapsed": false,
    "scrolled": true
   },
   "outputs": [],
   "source": [
    "import os\n",
    "filepath='C:\\Users\\IVAN\\Desktop\\evoBoids\\evoBoids Code'\n",
    "os.chdir(filepath)\n",
    "\n",
    "# *** Random Individual ***\n",
    "# %run boidsSimuP.py 30 0.04 0.63 0.90 50.0 10 5 1 20\n",
    "\n",
    "# *** (EVOLVED) Individual that groups in a swarm and follows leader ***\n",
    "%run boidsSimuP.py 1.50e+02 2.71e-02 1.00e+00 7.41e-01 3.02e+01 45.783e+00 4 1 100\n",
    "# Original Chromesome: 1.50e+02 2.71e-02 1.00e+00 7.41e-01 3.02e+01 5.783e+00"
   ]
  },
  {
   "cell_type": "code",
   "execution_count": null,
   "metadata": {
    "collapsed": true
   },
   "outputs": [],
   "source": [
    "------------------------------------------------------------------------\n",
    "------------------------------------------------------------------------\n",
    "\n",
    "* Play with: \n",
    "    >> boidsSimu -->  predSight,predKillZone,huntCoh,velBoost,maxDeltaVel, noBoids, maxVel, goalRadii,\n",
    "\n",
    "------------------------------------------------------------------------\n",
    "------------------------------------------------------------------------\n",
    "\n",
    "* ToDo:\n",
    "    >> change the method of predators speedReduction\n",
    "    >> change hunted colors\n",
    "    >> leader agent can revive hunted casual agents\n",
    "    >>>>>>>>>>\n",
    "    >> when depredator in neigh of casual agetns == reduce health (fitness)\n",
    "\n",
    "------------------------------------------------------------------------\n",
    "------------------------------------------------------------------------\n",
    "\n",
    "* To Commit\n",
    "\n",
    "Depredator speed Reduction:\n",
    "    \n",
    "> Depredator simulation (@boidsSimuP.py):\n",
    "    >> Depredators hunting speed ('velBoost') is greater when hunting lonely\n",
    "    preys. When hunting a flock of causualAgents it speed reduces linearly\n",
    "    based on the ammount of agents of the flock\n",
    "    \n",
    "         y = m.X + b\n",
    "         velBoost = -deltaBoost*numPreyINSight + (velBoostORI+deltaBoost)\n",
    "            \n",
    "    >> Changed the value of the 'border' variables which determines how close \n",
    "    the agents can get to the screen borders wo/ bouncing off. This was changed\n",
    "    since if the the 'border' is to big, casuaal agents might take cover on the borders\n",
    "    and when the predator attemps to hunt them, the border repulsion wont let\n",
    "    him reach its prey. Causing the predator to never hunt the casual agent and\n",
    "    stay \"infinetely\" bumping against the border\n",
    "    \n",
    "    >> When the whole casualAgent Swarm has been hunted, a \"GAME OVER\" text\n",
    "    is displayed on the screen and the BG color starts chaging for some seconds\n",
    "    ('extinctTimeOutT'). After this the games windows shuts down\n",
    "    \n",
    "------------------------------------------------------------------------\n",
    "------------------------------------------------------------------------"
   ]
  }
 ],
 "metadata": {
  "kernelspec": {
   "display_name": "Python 2",
   "language": "python",
   "name": "python2"
  },
  "language_info": {
   "codemirror_mode": {
    "name": "ipython",
    "version": 2
   },
   "file_extension": ".py",
   "mimetype": "text/x-python",
   "name": "python",
   "nbconvert_exporter": "python",
   "pygments_lexer": "ipython2",
   "version": "2.7.11"
  }
 },
 "nbformat": 4,
 "nbformat_minor": 0
}
