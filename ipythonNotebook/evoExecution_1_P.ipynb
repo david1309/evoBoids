{
 "cells": [
  {
   "cell_type": "markdown",
   "metadata": {},
   "source": [
    "# Run boids simulation (Predator Main test)"
   ]
  },
  {
   "cell_type": "code",
   "execution_count": 9,
   "metadata": {
    "collapsed": false,
    "scrolled": false
   },
   "outputs": [],
   "source": [
    "import os\n",
    "filepath='C:\\Users\\IVAN\\Desktop\\evoBoids\\evoBoids Code'\n",
    "os.chdir(filepath)\n",
    "\n",
    "# *** Random Individual ***\n",
    "# %run boidsSimuP.py 30 0.04 0.63 0.90 50.0 10 5 1 20\n",
    "\n",
    "# *** (EVOLVED) Individual that groups in a swarm and follows leader ***\n",
    "%run boidsSimuP.py 1.50e+02 2.71e-02 1.00e+00 7.41e-01 3.02e+01 10.783e+00 4 1 80"
   ]
  },
  {
   "cell_type": "code",
   "execution_count": null,
   "metadata": {
    "collapsed": true
   },
   "outputs": [],
   "source": [
    "------------------------------------------------------------------------\n",
    "------------------------------------------------------------------------\n",
    "\n",
    "* Play with: \n",
    "    >> boidsSimu -->  predSight,predKillZone,huntCoh,velBoost,maxDeltaVel, noBoids, maxVel, goalRadii,\n",
    "\n",
    "------------------------------------------------------------------------\n",
    "------------------------------------------------------------------------\n",
    "\n",
    "* ToDo:\n",
    "    >> change hunted colors\n",
    "    >> reduce predator speed when chassing groups VS individual agents &&/|| increase\n",
    "    prob of random movement\n",
    "    >> leader agent can revive hunted casual agents\n",
    "    >>>>>>>>>>\n",
    "    >> when depredator in neigh of casual agetns == reduce health (fitness)\n",
    "\n",
    "------------------------------------------------------------------------\n",
    "------------------------------------------------------------------------"
   ]
  }
 ],
 "metadata": {
  "kernelspec": {
   "display_name": "Python 2",
   "language": "python",
   "name": "python2"
  },
  "language_info": {
   "codemirror_mode": {
    "name": "ipython",
    "version": 2
   },
   "file_extension": ".py",
   "mimetype": "text/x-python",
   "name": "python",
   "nbconvert_exporter": "python",
   "pygments_lexer": "ipython2",
   "version": "2.7.11"
  }
 },
 "nbformat": 4,
 "nbformat_minor": 0
}
