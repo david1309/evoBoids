{
 "cells": [
  {
   "cell_type": "markdown",
   "metadata": {},
   "source": [
    "# Run boids simulation (Predator Main test)"
   ]
  },
  {
   "cell_type": "code",
   "execution_count": null,
   "metadata": {
    "collapsed": false,
    "scrolled": true
   },
   "outputs": [],
   "source": [
    "import os\n",
    "filepath='C:\\Users\\IVAN\\Desktop\\evoBoids\\evoBoids Code'\n",
    "os.chdir(filepath)\n",
    "\n",
    "# *** Random Individual ***\n",
    "# %run boidsSimuP.py 30 0.04 0.63 0.90 50.0 10 5 1 20\n",
    "\n",
    "# *** (EVOLVED) Individual that groups in a swarm and follows leader ***\n",
    "%run boidsSimuP.py 1.50e+02 4.71e-02 1.00e+00 7.41e-01 3.02e+01 40.783e+00 4 1 60\n",
    "# Original Chromesome: 1.50e+02 2.71e-02 1.00e+00 7.41e-01 3.02e+01 5.783e+00"
   ]
  },
  {
   "cell_type": "markdown",
   "metadata": {},
   "source": [
    "# ScratchPad"
   ]
  },
  {
   "cell_type": "code",
   "execution_count": null,
   "metadata": {
    "collapsed": false
   },
   "outputs": [],
   "source": [
    "x = [1,2,3,4,5]\n",
    "print x\n",
    "print x[-1]"
   ]
  },
  {
   "cell_type": "markdown",
   "metadata": {},
   "source": [
    "# Useful CodeNotes "
   ]
  },
  {
   "cell_type": "code",
   "execution_count": null,
   "metadata": {
    "collapsed": true
   },
   "outputs": [],
   "source": [
    "------------------------------------------------------------------------\n",
    "------------------------------------------------------------------------\n",
    "\n",
    "* Play with: \n",
    "    >> boidsSimu -->  predSight,velBoost,deltaBoost,maxVel\n",
    "                      Others --> noBoids, maxDeltaVel\n",
    "\n",
    "------------------------------------------------------------------------\n",
    "------------------------------------------------------------------------\n",
    "\n",
    "* ToDo:\n",
    "    \n",
    "    >> Code autonomous leaderAgent VS Controlled predatorAgent\n",
    "    >> predatorAgent can kill leaderAgent if not surrounded by > N-casual boids\n",
    "    >>>>>>>>>>\n",
    "    >>  depredator in neigh of casualSAgents-> reduce health intead of total death\n",
    "    >> assitant leader that automatically revives dead agents in its reviveSight\n",
    "    >> revive probability increases proportionally to the ammount of agets leaderAgetn has \n",
    "     in its group\n",
    "------------------------------------------------------------------------\n",
    "------------------------------------------------------------------------\n",
    "\n",
    "* To Commit\n",
    "leaderAgent Revive - Multiple predators - Class Boid velBost new attribute:\n",
    "    \n",
    "    > Depredator simulation (@boidsSimuP.py):\n",
    "        >> leaderAgent revive ability: leader can now revive hunted (dead) casualAgents\n",
    "        by getting close to a distance <= reviveZone (same value as the predators kill zone)\n",
    "        \n",
    "        >> main 'boid' for cycle continues to iterate over only living agents BUT inner \n",
    "        'otherBoids' for cycle iterates over all 'boids'. This is done to be able to\n",
    "        evaluate the distance of the leaderAgent to ANY casualAgent even if it is hunted.\n",
    "        Allowing to know when to revive each dead casualAgent.\n",
    "        \n",
    "        >> Multiple predators: one can now created 'noAutoPredator' autonomous predators. \n",
    "        This could be done manually before, but each new predator couldnt access all its features\n",
    "        Now each predator has its own persistans, velBoost reduction (proportional to no. of prey\n",
    "        AND proportional to persistance (when few preys are in his sight)) and has its own predSight\n",
    "        enalbing the painting of his preys of color orange.        \n",
    "\n",
    "        >> velBoost attribute: New Boid class Boid atribute (ONLY used by predator agents i.e. -99>type<-1). \n",
    "        Allowing to create multipel predatorAgents w/ their own velBoost variable value\n",
    "        \n",
    "        >> Text in graphical interface: velBoost and huntPersist are displayed in a single line for each \n",
    "        predatorAgent\n",
    "------------------------------------------------------------------------\n",
    "------------------------------------------------------------------------"
   ]
  }
 ],
 "metadata": {
  "kernelspec": {
   "display_name": "Python 2",
   "language": "python",
   "name": "python2"
  },
  "language_info": {
   "codemirror_mode": {
    "name": "ipython",
    "version": 2
   },
   "file_extension": ".py",
   "mimetype": "text/x-python",
   "name": "python",
   "nbconvert_exporter": "python",
   "pygments_lexer": "ipython2",
   "version": "2.7.11"
  }
 },
 "nbformat": 4,
 "nbformat_minor": 0
}
