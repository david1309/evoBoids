{
 "cells": [
  {
   "cell_type": "markdown",
   "metadata": {},
   "source": [
    "# Run boids simulation (Predator Main test)"
   ]
  },
  {
   "cell_type": "code",
   "execution_count": 81,
   "metadata": {
    "collapsed": false,
    "scrolled": false
   },
   "outputs": [],
   "source": [
    "import os\n",
    "filepath='C:\\Users\\IVAN\\Desktop\\evoBoids\\evoBoids Code'\n",
    "os.chdir(filepath)\n",
    "\n",
    "# *** Random Individual ***\n",
    "# %run boidsSimuP.py 30 0.04 0.63 0.90 50.0 10 5 1 20\n",
    "\n",
    "# *** (EVOLVED) Individual that groups in a swarm and follows leader ***\n",
    "%run boidsSimuP.py 1.50e+02 4.71e-02 1.00e+00 7.41e-01 3.02e+01 40.783e+00 4 1 405\n",
    "# Original Chromesome: 1.50e+02 2.71e-02 1.00e+00 7.41e-01 3.02e+01 5.783e+00"
   ]
  },
  {
   "cell_type": "markdown",
   "metadata": {},
   "source": [
    "# ScratchPad"
   ]
  },
  {
   "cell_type": "code",
   "execution_count": null,
   "metadata": {
    "collapsed": false
   },
   "outputs": [],
   "source": [
    "import pygame\n",
    "pygame.font.get_fonts() "
   ]
  },
  {
   "cell_type": "markdown",
   "metadata": {},
   "source": [
    "# Useful CodeNotes "
   ]
  },
  {
   "cell_type": "code",
   "execution_count": null,
   "metadata": {
    "collapsed": true
   },
   "outputs": [],
   "source": [
    "------------------------------------------------------------------------\n",
    "------------------------------------------------------------------------\n",
    "\n",
    "* Play with: \n",
    "    >> boidsSimu -->  predSight,velBoost,deltaBoost,maxVel\n",
    "                      Others --> noBoids, noAutoPred, noAutoLead maxDeltaVel\n",
    "    \" noBoids - Casual Agents {white ring and small rainbow interior}\"\n",
    "    \" noAutoPred - Autonomous 'intelligent' hunting predators {orange ring and Red interior} \"\n",
    "    \" noAutoLead - Autonomous 'foolish' Auxilliary Leader Agents that help to revive the dead Casual Agents {clear blue ring and blue interior}\"\n",
    "    \" contSpecial - Leader OR Predator mouse controled agent {green ring and blue interior}\"\n",
    "  \n",
    "------------------------------------------------------------------------\n",
    "------------------------------------------------------------------------\n",
    "\n",
    "* ToDo:\n",
    "    >> prevent two predators being untop of each other\n",
    "    >> AuxAgents are atracted toward dead agents in a certain radii\n",
    "    >> instant time of predator global vision\n",
    "    >> Code autonomous leaderAgent VS Controlled predatorAgent\n",
    "    >> predatorAgent can kill leaderAgent if not surrounded by > N-casual boids\n",
    "    >> Gravity movement (provide momentum control instead of direct position control)\n",
    "    >> leader take casualAgents from A-to-B. Predator hunts them to minimize numAgentsATgoal\n",
    "    and has a limited number of resoruces (OBSTACLES) that will difficult  the translation\n",
    "    from point A-to-B\n",
    "    >>>>>>>>>>\n",
    "    >>  depredator in neigh of casualSAgents-> reduce health intead of total death\n",
    "    >> assitant leader that automatically revives dead agents in its reviveSight\n",
    "    >> revive probability increases proportionally to the ammount of agets\n",
    "    leaderAgent has in its group   \n",
    "    >> ¿¿¿ Obstacle \n",
    "    \n",
    "------------------------------------------------------------------------\n",
    "------------------------------------------------------------------------\n",
    "    \n",
    "* Game Plays:\n",
    "    > As Leader:\n",
    "        >> Guide/Group the Swarm        \n",
    "        >> Revive the Swarm\n",
    "        \n",
    "    > As Predator:\n",
    "        >> Defend the Swarm         \n",
    "        >> Hunt the Swarm\n",
    "    \n",
    "    > Other:    \n",
    "        >> Autonomatic (no user) \n",
    "        \n",
    "------------------------------------------------------------------------\n",
    "------------------------------------------------------------------------\n",
    "\n",
    "* To Commit\n",
    "\n",
    "#  Fixed PredatorOverLapping Bug && Defend the Swarm GAMEPLAY\n",
    "    \n",
    "#     > Depredator simulation (@boidsSimuP.py):\n",
    "        \n",
    "#         >> FIX - PredatorOverLapping : Fixed problem in which two predators over layed one on top of the other. Solved \n",
    "#             by applying the boid.repulsion() rule to predators that stood at a distance < crowdingThr*factP2P.\n",
    "#             >>> factP2P := Factor by which collisionRadii is scaled, determining how close can 2 predators stand\n",
    "                \n",
    "#         >> NEW GAMEPLAY - Defend the Swarm :While fixing the above described bug, I discovered that by assigning a\n",
    "#             high enough value to factP2L (Leaders analogous factor of factP2P) , the Leader controlled agent could \n",
    "#             frigthen away other autonomous predators that where trying to hunt the preys. Creating a new GAMEPLAY \n",
    "#             in which teh user can explicitelly defend the casual boids by scaring away the predators\n",
    "\n",
    "------------------------------------------------------------------------\n",
    "------------------------------------------------------------------------"
   ]
  }
 ],
 "metadata": {
  "kernelspec": {
   "display_name": "Python 2",
   "language": "python",
   "name": "python2"
  },
  "language_info": {
   "codemirror_mode": {
    "name": "ipython",
    "version": 2
   },
   "file_extension": ".py",
   "mimetype": "text/x-python",
   "name": "python",
   "nbconvert_exporter": "python",
   "pygments_lexer": "ipython2",
   "version": "2.7.11"
  }
 },
 "nbformat": 4,
 "nbformat_minor": 0
}
