{
 "cells": [
  {
   "cell_type": "markdown",
   "metadata": {},
   "source": [
    "# Run boids simulation (Predator Main test)"
   ]
  },
  {
   "cell_type": "code",
   "execution_count": 49,
   "metadata": {
    "collapsed": false,
    "scrolled": false
   },
   "outputs": [],
   "source": [
    "import os\n",
    "filepath='C:\\Users\\IVAN\\Desktop\\evoBoids\\evoBoids Code'\n",
    "os.chdir(filepath)\n",
    "\n",
    "# *** Random Individual ***\n",
    "# %run boidsSimuP.py 30 0.04 0.63 0.90 50.0 10 5 1 20\n",
    "\n",
    "# *** (EVOLVED) Individual that groups in a swarm and follows leader ***\n",
    "%run boidsSimuP.py 1.50e+02 4.71e-02 1.00e+00 7.41e-01 3.02e+01 40.783e+00 3 1 450\n",
    "# Original Chromesome: 1.50e+02 2.71e-02 1.00e+00 7.41e-01 3.02e+01 5.783e+00"
   ]
  },
  {
   "cell_type": "markdown",
   "metadata": {},
   "source": [
    "# ScratchPad"
   ]
  },
  {
   "cell_type": "code",
   "execution_count": null,
   "metadata": {
    "collapsed": false
   },
   "outputs": [],
   "source": [
    "import pygame\n",
    "# pygame.font.get_fonts() \n",
    "# leadContExist = ('leadContAgent' in locals() or 'leadContAgent' in globals())"
   ]
  },
  {
   "cell_type": "markdown",
   "metadata": {},
   "source": [
    "# Useful CodeNotes "
   ]
  },
  {
   "cell_type": "code",
   "execution_count": 50,
   "metadata": {
    "collapsed": false
   },
   "outputs": [
    {
     "ename": "SyntaxError",
     "evalue": "invalid syntax (<ipython-input-50-bdf7ac928440>, line 1)",
     "output_type": "error",
     "traceback": [
      "\u001b[1;36m  File \u001b[1;32m\"<ipython-input-50-bdf7ac928440>\"\u001b[1;36m, line \u001b[1;32m1\u001b[0m\n\u001b[1;33m    ------------------------------------------------------------------------\u001b[0m\n\u001b[1;37m                                                                            ^\u001b[0m\n\u001b[1;31mSyntaxError\u001b[0m\u001b[1;31m:\u001b[0m invalid syntax\n"
     ]
    }
   ],
   "source": [
    "------------------------------------------------------------------------\n",
    "------------------------------------------------------------------------\n",
    "\n",
    "* Play with: \n",
    "    >> boidsSimu -->  predSight,velBoost,deltaBoost,maxVel\n",
    "                      Others --> noBoids, noAutoPred, noAutoLead maxDeltaVel\n",
    "    \" noBoids - Casual Agents {white ring and small rainbow interior}\"\n",
    "    \" noAutoPred - Autonomous 'intelligent' hunting predators {orange ring and Red interior} \"\n",
    "    \" noAutoLead - Autonomous 'foolish' Auxilliary Leader Agents that help to revive the dead Casual Agents {clear blue ring and blue interior}\"\n",
    "    \" contSpecial - Leader OR Predator mouse controled agent {green ring and blue interior}\"\n",
    "  \n",
    "------------------------------------------------------------------------\n",
    "------------------------------------------------------------------------\n",
    "\n",
    "* ToDo:\n",
    "    >> instant time of predator global vision\n",
    "    >> Code autonomous leaderAgent VS Controlled predatorAgent       \n",
    "    >> leader take casualAgents from A-to-B. Predator hunts them to minimize numAgentsATgoal\n",
    "    and has a limited number of resoruces (OBSTACLES) that will difficult  the translation\n",
    "    from point A-to-B\n",
    "    >> predatorAgent can kill leaderAgent if not surrounded by > N-casual boids\n",
    "    >> Leaders revive prob. increases proportionally to  mmount of agents it has in its group   \n",
    "    >> Gravity movement (provide momentum control instead of direct position control)\n",
    "    \n",
    "    \n",
    "------------------------------------------------------------------------\n",
    "------------------------------------------------------------------------\n",
    "    \n",
    "* Game Plays:\n",
    "    > As Leader:\n",
    "        >> Full Game : Guide the Swarm + Slight Defense + Assisted Revival      \n",
    "        >> Revive the Swarm (enabling controleLeader revival)\n",
    "        >> Defend the Swarm (increasing factP2L)\n",
    "        \n",
    "    > As Predator:                \n",
    "        >> Hunt the Swarm : win agains autonomous assistantAgents\n",
    "    \n",
    "    > Other:    \n",
    "        >> Autonomatic (no user) \n",
    "        \n",
    "------------------------------------------------------------------------\n",
    "------------------------------------------------------------------------\n",
    "\n",
    "* To Commit\n",
    "\n",
    " General Config change && Fixed assistantLeader Bug && assistLeader reviveSight && instant Predators Global Vision\n",
    "    \n",
    "    > Depredator simulation (@boidsSimuP.py):\n",
    "        \n",
    "        >> General Configuration change:\n",
    "            \n",
    "            >>> Changed casualBoids Size to create smaller agents\n",
    "            >>> Because of the above the 'predKillZone' had to be increased\n",
    "            >>> MaxVel and maxDeltaVel reduced because predators where going too! fast\n",
    "            >>> factP2L was fixed to 1, like this a controlledLeaderAgent can give a \n",
    "            slight push (scare them) the attacking predator agents \n",
    "            >>> 'predatorW' (sent from ipython notebook) was reduced. Enabling the nice\n",
    "            flock \"separation flow\" when the casualBoids are grouped\n",
    "            \n",
    "                    \n",
    "        >> Assitant autoLeader has a small radius of vision in which it will be able to localize \n",
    "        a dead casualAgent and be a ttracted towards it in order to revive him. This behavior also \n",
    "        has a persistance level. When it drops to zero  assitantLeader will commute to the random behavior\n",
    "        \n",
    "        >> Instant Predators Global Vision: if random exploration has been active for to much time \n",
    "        (when Boid attribute 'randCount' reaches 'randMAX'). Depredators have for a short ammount of time \n",
    "        (counted by variable 'G') a global vision of the scenario. This causes them to shift their velocity\n",
    "        vector in the direction where the biggest ammount of boids are. The shift occurs for an instant but it\n",
    "        is enough for the predator to approach  some casualAgents\n",
    "        \n",
    "        >> FIX - assistantLeader overControl : Now the autoleaders (assitants) have 1/2\n",
    "        cohesion weight compared to the controlledLeader. In this manner, the controlLeader\n",
    "        can now safely attract other casualAgents wo/ having to worry on the issue that \n",
    "        other autoLeader \"rob\" to him such casualAgents         \n",
    "        \n",
    "        >> Moved the 'boidsNotATgoal' variable update to the Main for cycle. This variable contains\n",
    "        information about which casualAgents arent close to controlledLeaderAgent\n",
    "        \n",
    "\n",
    "        \n",
    "------------------------------------------------------------------------\n",
    "------------------------------------------------------------------------"
   ]
  }
 ],
 "metadata": {
  "kernelspec": {
   "display_name": "Python 2",
   "language": "python",
   "name": "python2"
  },
  "language_info": {
   "codemirror_mode": {
    "name": "ipython",
    "version": 2
   },
   "file_extension": ".py",
   "mimetype": "text/x-python",
   "name": "python",
   "nbconvert_exporter": "python",
   "pygments_lexer": "ipython2",
   "version": "2.7.11"
  }
 },
 "nbformat": 4,
 "nbformat_minor": 0
}
