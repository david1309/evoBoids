{
 "cells": [
  {
   "cell_type": "markdown",
   "metadata": {},
   "source": [
    "# Run boids simulation (Predator Main test)"
   ]
  },
  {
   "cell_type": "code",
   "execution_count": 76,
   "metadata": {
    "collapsed": false,
    "scrolled": false
   },
   "outputs": [],
   "source": [
    "import os\n",
    "filepath='C:\\Users\\IVAN\\Desktop\\evoBoids\\evoBoids Code'\n",
    "os.chdir(filepath)\n",
    "\n",
    "# *** Random Individual ***\n",
    "# %run boidsSimuP.py 30 0.04 0.63 0.90 50.0 10 5 1 20\n",
    "\n",
    "# *** (EVOLVED) Individual that groups in a swarm and follows leader ***\n",
    "%run boidsSimuP.py 1.50e+02 4.71e-02 1.00e+00 7.41e-01 3.02e+01 40.783e+00 4 1 45\n",
    "# Original Chromesome: 1.50e+02 2.71e-02 1.00e+00 7.41e-01 3.02e+01 5.783e+00"
   ]
  },
  {
   "cell_type": "markdown",
   "metadata": {},
   "source": [
    "# ScratchPad"
   ]
  },
  {
   "cell_type": "code",
   "execution_count": null,
   "metadata": {
    "collapsed": true
   },
   "outputs": [],
   "source": [
    "# This attributes are ONLY used by the PREDATOR agent (correct \n",
    "# programming practice would be to create a child class that \n",
    "# inherits 'Boid' ... but :| :|)          \n",
    "\n",
    "self.neighPredator = [] # list which stores predators preys\n",
    "# list saving which casualAgents should be  ignored. \n",
    "# since they are causing the predator to loop arround \n",
    "# the same position stores predators preys\n",
    "self.boid2Ignore = [] "
   ]
  },
  {
   "cell_type": "markdown",
   "metadata": {},
   "source": [
    "# Useful CodeNotes "
   ]
  },
  {
   "cell_type": "code",
   "execution_count": null,
   "metadata": {
    "collapsed": true
   },
   "outputs": [],
   "source": [
    "------------------------------------------------------------------------\n",
    "------------------------------------------------------------------------\n",
    "\n",
    "* Play with: \n",
    "    >> boidsSimu -->  predSight,velBoost,deltaBoost,maxVel\n",
    "                      Others --> noBoids, maxDeltaVel\n",
    "\n",
    "------------------------------------------------------------------------\n",
    "------------------------------------------------------------------------\n",
    "\n",
    "* ToDo:\n",
    "    >> change the method of predators speedReduction\n",
    "    >> change hunted colors\n",
    "    >> leader agent can revive hunted casual agents\n",
    "    >>>>>>>>>>\n",
    "    >> when depredator in neigh of casual agetns == reduce health (fitness)\n",
    "\n",
    "------------------------------------------------------------------------\n",
    "------------------------------------------------------------------------\n",
    "\n",
    "* To Commit\n",
    "\n",
    "# Depredator Hunting Persistance && Presicion:\n",
    "    \n",
    "# > Depredator simulation (@boidsSimuP.py):\n",
    "#     >> Hunting Persistance: New atributes added to Boid Class (ONLY used by predator agents i.e. -99>type<-1):\n",
    "        \n",
    "#         neighPredator -> list which stores predators preys  \n",
    "#         huntPersist -> when it is at its:\n",
    "#             Max Val -> Predator hunts\n",
    "#             ZeroVal -> abandons hunting and re-starts random exploration\n",
    "            \n",
    "#         This atribute provide the predator the capacity of avandoning an attack.\n",
    "#         If predators is  trying to hunt the same casualBoids, its  persistance level\n",
    "#         gradually reduces.When it reaches a minumum level (0), Predator surrenders \n",
    "#         and forces the activation of the random exploration behavior.When predator \n",
    "#         finds a different group of preys, hunting behavior is re-activated\n",
    "        \n",
    "#     >> Attack Presicion: When there are few preys, predator tends to \"bounce arround\" these \n",
    "#        preys and never hunt them --> velBoost is being reducedproportionally to the time \n",
    "#        (persistance level)spent hunting them. Providing the predator a more fine/precise \n",
    "#        attack movement.Increasing its chances to hunt  preys and get out of the \n",
    "#        \"bounce arround\" loop.\n",
    "\n",
    "------------------------------------------------------------------------\n",
    "------------------------------------------------------------------------"
   ]
  }
 ],
 "metadata": {
  "kernelspec": {
   "display_name": "Python 2",
   "language": "python",
   "name": "python2"
  },
  "language_info": {
   "codemirror_mode": {
    "name": "ipython",
    "version": 2
   },
   "file_extension": ".py",
   "mimetype": "text/x-python",
   "name": "python",
   "nbconvert_exporter": "python",
   "pygments_lexer": "ipython2",
   "version": "2.7.11"
  }
 },
 "nbformat": 4,
 "nbformat_minor": 0
}
