{
 "cells": [
  {
   "cell_type": "markdown",
   "metadata": {},
   "source": [
    "# Run boids simulation: "
   ]
  },
  {
   "cell_type": "code",
   "execution_count": null,
   "metadata": {
    "collapsed": false
   },
   "outputs": [],
   "source": [
    "import os\n",
    "filepath='C:\\Users\\IVAN\\Desktop\\evoBoids\\evoBoids Code'\n",
    "os.chdir(filepath)\n",
    "\n",
    "%run boidsSimu.py 150 0.04 0.23 0.20 10.0 40 1 10\n"
   ]
  },
  {
   "cell_type": "markdown",
   "metadata": {},
   "source": [
    "# Run evoBoids evolution round:"
   ]
  },
  {
   "cell_type": "code",
   "execution_count": null,
   "metadata": {
    "collapsed": false
   },
   "outputs": [
    {
     "name": "stdout",
     "output_type": "stream",
     "text": [
      "Do you want to load a SeedPopuation: [1:Yes ; 0:No]0\n",
      "\n",
      "Estimated Evolutione time: 21000.000000 s  ... Press Enter to continue ...\n",
      "\n"
     ]
    }
   ],
   "source": [
    "import os\n",
    "filepath='C:\\Users\\IVAN\\Desktop\\evoBoids\\evoBoids Code'\n",
    "os.chdir(filepath)\n",
    "\n",
    "%run evoBoids.py"
   ]
  },
  {
   "cell_type": "code",
   "execution_count": null,
   "metadata": {
    "collapsed": true
   },
   "outputs": [],
   "source": []
  },
  {
   "cell_type": "code",
   "execution_count": null,
   "metadata": {
    "collapsed": true
   },
   "outputs": [],
   "source": [
    "* Play with: \n",
    "------ evolution -> fitWeights, evoConfig,  neighRadii & crowdingThr & leaderW ranges\n",
    "------boidsSimui -->  specialRFact, maxVel( .. noBoids,goalRadii)\n",
    "\n",
    "\n",
    "* put more weight to collisions\n",
    "\n",
    "Commits:\n",
    "    \n",
    "    * increase goalRadii to 150% of casualAgents Radii\n",
    "    * specialRFact increase from +75% to +100% (i.e. value of 2)\n",
    "    * numATgoalV fitness parameter is now obtained as the average ammount of agents\n",
    "     that are present in the goal zone. The average is computed from the moment the \n",
    "     first agents enters to the goal area, to the end of the simulation\n",
    "    * at the beginning of evolutionneightRaddi and crowdingThr are initialized \n",
    "    in a range of [0.0,casualAgentR*15] (increased from the past [0.0,casualAgentR*10])\n",
    "    * At repulsion rule, specialAgents NO LONGER have a reduced repulsion. Instead, theyve\n",
    "    got the same \"repulsion rate\" than casualAgents\n",
    "    \n",
    "    * Added a text to the simulation screen, which shows the simulation parameters"
   ]
  },
  {
   "cell_type": "markdown",
   "metadata": {},
   "source": [
    "# Upload Evolutionary Log"
   ]
  },
  {
   "cell_type": "code",
   "execution_count": 2,
   "metadata": {
    "collapsed": false,
    "scrolled": true
   },
   "outputs": [
    {
     "name": "stdout",
     "output_type": "stream",
     "text": [
      "Simulate Agents: [Enter: Yes ;0: No]\n",
      "\n",
      "Input: [Enter: to simulate generation 0 ; 0: Cancel simulation ...\n",
      "Simulating generation No. 0\n",
      "... Press enter to start simulation ...\n",
      "Fitness values : \n",
      "interCollV  medGRadiiV  deltaTV  numATgoalV\n",
      "[[ 1.          0.86593305  0.          0.        ]]\n",
      "Total fitness : 0.599055 \n",
      "\n",
      "\n",
      "Input: [Enter: to simulate generation 5 ; 0: Cancel simulation ...\n",
      "Simulating generation No. 5\n",
      "... Press enter to start simulation ...\n",
      "Fitness values : \n",
      "interCollV  medGRadiiV  deltaTV  numATgoalV\n",
      "[[ 0.09039548  0.99904725  0.90290736  0.73333333]]\n",
      "Total fitness : 0.694626 \n",
      "\n",
      "\n",
      "Input: [Enter: to simulate generation 10 ; 0: Cancel simulation ...0\n",
      "\n",
      "... Enter to Close Plot ...\n"
     ]
    }
   ],
   "source": [
    "import numpy as np \n",
    "import matplotlib.pyplot as plt\n",
    "import pickle\n",
    "import os\n",
    "\n",
    ">>>>>>>>>>>>>>>>>>>>>>>>>>>>>>>>>>>> Evolution <<<<<<<<<<<<<<<<<<<<<<<<<<<<<<<<<<<\"   \n",
    "\"Import Simulation Script\"\n",
    "filepath='C:\\Users\\IVAN\\Desktop\\evoBoids\\evoBoids Code'\n",
    "os.chdir(filepath)\n",
    "import boidsSimu # Boid simulator library\n",
    "\n",
    "\"Import populations genomes and evolution configuration\"\n",
    "f = open('C:\\Users\\IVAN\\Desktop\\evoBoids\\evoBoids Code\\evoLog\\evoLog_try5.pckl')\n",
    "lastPop,bestIndPerAll,evoConfig,fitHist,fitPlotData,bestIndPerGen,ellapsedT= pickle.load(f)\n",
    "f.close()\n",
    "maxFitHist , avgFitHist , minFitHist = fitPlotData\n",
    "popSize, generations,selectMethod,elitism,crossProb,mutProb,\\\n",
    "numRept,timeOutT,fitWeights = evoConfig\n",
    "# print \"Evolution time : %f \\n\" %ellapsedT\n",
    "\n",
    "\"Plot Fitnesses\"\n",
    "plt.close('all')\n",
    "plt.figure(2)\n",
    "plt.xlabel('Genera|tions')\n",
    "plt.ylabel('Fitness')\n",
    "plt.title('Average Fitness per Evolved Generation')\n",
    "plt.grid(True)\n",
    "plt.gca().set_xlim(0,avgFitHist.shape[1]-1)\n",
    "plt.pause(0.05)\n",
    "plt.ion()\n",
    "\n",
    "plotGen = np.arange(avgFitHist.shape[1])\n",
    "plt.plot(plotGen,maxFitHist[0,0::],marker = 'o',markerfacecolor = 'k',ms = 6.0, \\\n",
    "                                              color= 'm', linewidth = 2.5, label = \"Max.Fitness\")  \n",
    "plt.plot(plotGen,avgFitHist[0,0::],marker = 'o',markerfacecolor = 'k',ms = 6.0, \\\n",
    "                                              color= 'g', linewidth = 2.5, label = \"Avg.Fitness\")  \n",
    "plt.plot(plotGen,minFitHist[0,0::],marker = 'o',markerfacecolor = 'k',ms = 6.0, \\\n",
    "                                              color= 'r', linewidth = 2.5, label = \"Min.Fitness\")  \n",
    "\n",
    "plt.legend(bbox_to_anchor=(0,1.02,1,0.15),ncol=3, mode=\"expand\", borderaxespad=0.)\n",
    "plt.gcf().tight_layout(rect=[0,0,1,0.925])\n",
    "# bbox_to_anchor=(1.05, 1), loc=2, borderaxespad=0.0)\n",
    "plt.pause(0.05)\n",
    "plt.show()\n",
    "\n",
    "\"Simulate best of each generation\"\n",
    "simu = raw_input(\"Simulate Agents: [Enter: Yes ;0: No]\")\n",
    "\n",
    "if not simu:\n",
    "    # Configure Simulation params.\n",
    "    generation = avgFitHist.shape[1]-2\n",
    "    percGenDisplay = 0.2\n",
    "    visualON = 1\n",
    "\n",
    "    # Obtain which generations to simulate\n",
    "    if int((generation+2)*percGenDisplay):gens2show = np.arange(0,generation+2,int((generation+2)*percGenDisplay))\n",
    "    else: gens2show = np.arange(0,(generation+2),1)\n",
    "\n",
    "    if (generation+1) not in gens2show.tolist():\n",
    "        gens2show = np.concatenate((gens2show,[generation+1]))\n",
    "        \n",
    "    for index,val in np.ndenumerate(gens2show):\n",
    "        cancel = raw_input(\"\\nInput: [Enter: to simulate generation %d ; 0: Cancel simulation ...\" %val)\n",
    "        if cancel: break\n",
    "        print \"Simulating generation No. %d\" %val\n",
    "        \n",
    "        simuParams = np.array([0,visualON,timeOutT], dtype= 'float64') \n",
    "        simuParams = np.insert(simuParams,1,bestIndPerGen[val,:]).tolist() # insert in index=1 of simuParams\n",
    "        fitVals = boidsSimu.main(simuParams)\n",
    "        print \"Fitness values : \"\n",
    "        print \"interCollV  medGRadiiV  deltaTV  numATgoalV\"\n",
    "        print fitVals\n",
    "        print \"Total fitness : %f \\n\" %fitWeights.dot(fitVals.transpose())\n",
    "\n",
    "#     \"IDEAL Agent, only for DEBUGG\"\n",
    "#     casualAgentR = 10.0\n",
    "#     idealInd = np.array([casualAgentR*10, 4.0/100, 23.0/100, 90.0/100, casualAgentR*5, 10])\n",
    "#     x = 1\n",
    "#     timeOutT = 20\n",
    "#     while x: \n",
    "#         ideal = raw_input(\"Enter: to simulate IDEAL AGENT ; 0: Cancel simulation ...\")\n",
    "#         if ideal: break\n",
    "            \n",
    "#         simuParams = np.array([0,visualON,timeOutT], dtype= 'float64') \n",
    "#         simuParams = np.insert(simuParams,1,idealInd).tolist() # insert in index=1 of simuParams\n",
    "#         fitVals = boidsSimu.main(simuParams)\n",
    "#         print \"Fitness values : \"\n",
    "#         print \"interCollV  medGRadiiV  deltaTV  numATgoalV\"\n",
    "#         print fitVals\n",
    "#         print \"Total fitness : %f \\n\" %fitWeights.dot(fitVals.transpose())\n",
    "        \n",
    "\n",
    "raw_input(\"\\n... Enter to Close Plot ...\")\n",
    "plt.close('all')\n"
   ]
  },
  {
   "cell_type": "markdown",
   "metadata": {},
   "source": [
    "# Live Data plotting using Pyplot (matplotlib) \n",
    "[Live ploting Example - 1](http://stackoverflow.com/questions/16446443/live-updating-with-matplotlib)  \n",
    "[Live ploting Example - 2](http://stackoverflow.com/questions/10944621/dynamically-updating-plot-in-matplotlib)  \n",
    "[Set color cycling in plots](http://stackoverflow.com/questions/16006572/plotting-different-colors-in-matplotlib)\n",
    "[extract data from matplotlib plot](http://stackoverflow.com/questions/8938449/how-to-extract-data-from-matplotlib-plot)  \n",
    "[Axis Limits](http://stackoverflow.com/questions/11744990/how-to-set-auto-for-upper-limit-but-keep-a-fixed-lower-limit-with-matplotlib)  "
   ]
  },
  {
   "cell_type": "code",
   "execution_count": null,
   "metadata": {
    "collapsed": false
   },
   "outputs": [],
   "source": [
    "import pylab as plt\n",
    "import numpy as np\n",
    "X = np.linspace(0,2,1000)\n",
    "Y = X**2 + np.random.random(X.shape)\n",
    "\n",
    "plt.ion()\n",
    "graph = plt.plot(X,Y)[0] # this automatically sets the axis\n",
    "i = 0\n",
    "while i<30: # ONLY updating y data, and leaving the previoslly ploted X data\n",
    "    Y = X**2 + np.random.random(X.shape)\n",
    "    graph.set_ydata(Y)\n",
    "    plt.draw()\n",
    "    plt.pause(0.05)\n",
    "    i+= 1\n",
    "plt.close()  "
   ]
  },
  {
   "cell_type": "code",
   "execution_count": null,
   "metadata": {
    "collapsed": false
   },
   "outputs": [],
   "source": [
    "import pylab as plt\n",
    "import numpy as np\n",
    "\n",
    "X = np.linspace(0,2,1000)\n",
    "Y = X**2 + np.random.random(X.shape)\n",
    "plt.axis([0, max(X), 0, 5])\n",
    "\n",
    "# plt.ion()\n",
    "graph, = plt.plot([],[]) # returns a tuple of the added lines(graphs)\n",
    "i = 0\n",
    "while i<10:  # updating X and Y data and manually concatenating (updating) X and Y content\n",
    "             # Axis limits have to mbe specified\n",
    "    Y = X**2 + np.random.random(X.shape)\n",
    "    graph.set_ydata(Y)\n",
    "    graph.set_xdata(X)\n",
    "    plt.draw()\n",
    "    plt.pause(0.05)\n",
    "    i +=1\n",
    "plt.close()    \n"
   ]
  },
  {
   "cell_type": "code",
   "execution_count": null,
   "metadata": {
    "collapsed": false
   },
   "outputs": [],
   "source": [
    "# plt.gca().set_ylim(top=1.)\n",
    "import pylab as plt\n",
    "import numpy as np\n",
    "\n",
    "plt.ion()\n",
    "graph, = plt.plot([], [])\n",
    "\n",
    "## SET BOTH AXIS LIMIT\n",
    "# plt.axis([0, 30, 0, 30**2])\n",
    "\n",
    "## ONLY SET ONE AXIS LIMIT\n",
    "plt.gca().set_xlim(0,30)\n",
    "\n",
    "i = 0\n",
    "while i<30: # updating X and Y data, using the '.get_xdata' to concatanate X and Y data\n",
    "            # Axis limits have to mbe specified\n",
    "    \n",
    "    graph.set_ydata(np.concatenate((graph.get_ydata(),[i**2])))\n",
    "    graph.set_xdata(np.concatenate((graph.get_xdata(),[i])))\n",
    "    plt.draw()\n",
    "    plt.pause(0.05)\n",
    "    \n",
    "    ## UPDATE INDIVIDUAL AXIS LIMITS\n",
    "    # This can solve the problem of NOT pre setting the axis\n",
    "#     plt.gca().set_xlim(0,max(graph.get_xdata()))\n",
    "    plt.gca().set_ylim(0,max(graph.get_ydata()))\n",
    "    i+=1\n",
    "plt.close()  "
   ]
  },
  {
   "cell_type": "code",
   "execution_count": null,
   "metadata": {
    "collapsed": false
   },
   "outputs": [],
   "source": [
    "import pylab as plt\n",
    "import numpy as np\n",
    "\n",
    "plt.ion()\n",
    "# plt.axis([0, 30, 0, 1])\n",
    "y = []\n",
    "x = []\n",
    "for i in range(30): # concatenating the complete array to plot (past data + new data)\n",
    "    y.append(np.random.random())\n",
    "    x.append(i)\n",
    "    plt.plot(x,y,'r-') #plt.scatter(x, y)\n",
    "    plt.pause(0.05)    \n",
    "    \n",
    "plt.close(1)"
   ]
  },
  {
   "cell_type": "code",
   "execution_count": null,
   "metadata": {
    "collapsed": false
   },
   "outputs": [],
   "source": [
    "# import pickle\n",
    "\n",
    "# f = open('evoLog.pckl', 'w')\n",
    "# pickle.dump(object, f)\n",
    "# f.close()\n",
    "\n",
    "# f = open('evoLog.pckl')\n",
    "# object = pickle.load(f)\n",
    "# f.close()\n",
    "\n",
    "    # time.sleep(1)\n",
    "    # \" Plot Fitness along generations\"\n",
    "    # genVect = np.arange(avgFitHist.shape[1]).reshape(1,generations)\n",
    "    # plt.plot(genVect[0,:],avgFitHist[0,:], 'r-')\n",
    "    # plt.axis([0, generations+1, 0, np.amax(avgFitHist)+np.amax(avgFitHist)*0.25])\n",
    "    # plt.show()"
   ]
  }
 ],
 "metadata": {
  "kernelspec": {
   "display_name": "Python 2",
   "language": "python",
   "name": "python2"
  },
  "language_info": {
   "codemirror_mode": {
    "name": "ipython",
    "version": 2
   },
   "file_extension": ".py",
   "mimetype": "text/x-python",
   "name": "python",
   "nbconvert_exporter": "python",
   "pygments_lexer": "ipython2",
   "version": "2.7.11"
  }
 },
 "nbformat": 4,
 "nbformat_minor": 0
}
