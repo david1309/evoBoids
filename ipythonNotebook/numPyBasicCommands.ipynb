{
 "cells": [
  {
   "cell_type": "markdown",
   "metadata": {},
   "source": [
    "# Numpy Basic Commands \n",
    "\n",
    "**David C. Alvarez- Charris**  \n",
    "*Mechatronics Engineering Student*    \n",
    "[*numpy essentials*](https://docs.scipy.org/doc/numpy-dev/user/quickstart.html)  \n",
    "> Scipy.org --> SciPu ecosystem\n",
    "\n",
    "`if (true): print \"be happy'`   \n",
    "``` python \n",
    " if (1) : self.x\n",
    "```  \n"
   ]
  },
  {
   "cell_type": "markdown",
   "metadata": {},
   "source": [
    "## Array Creation "
   ]
  },
  {
   "cell_type": "code",
   "execution_count": 72,
   "metadata": {
    "collapsed": true
   },
   "outputs": [
    {
     "name": "stdout",
     "output_type": "stream",
     "text": [
      "[0 1 2]\n",
      "[ 2.    2.25  2.5   2.75  3.    3.25  3.5   3.75]\n",
      "[[ 2.   2.5]\n",
      " [ 3.   3.5]]\n",
      "[ 0.          0.22222222  0.44444444  0.66666667  0.88888889  1.11111111\n",
      "  1.33333333  1.55555556  1.77777778  2.        ]\n",
      "\n",
      "3D Array\n",
      "[[[ 1.  1.  1.]\n",
      "  [ 1.  1.  1.]\n",
      "  [ 1.  1.  1.]\n",
      "  [ 1.  1.  1.]]\n",
      "\n",
      " [[ 1.  1.  1.]\n",
      "  [ 1.  1.  1.]\n",
      "  [ 1.  1.  1.]\n",
      "  [ 1.  1.  1.]]]\n",
      "No.Dimension : 3.000000\n",
      "Numel on each dim.: \n",
      "(2L, 4L, 3L)\n",
      "\n",
      "total numel : 24.000000\n",
      "Array type: \n",
      "float64\n"
     ]
    }
   ],
   "source": [
    "import numpy as np\n",
    "a = np.arange(3) \n",
    "print(a)\n",
    "a = np.arange(2,4,0.25) # range of elements array\n",
    "print(a)\n",
    "a = np.arange(2,4,0.5).reshape(2,2) # reshape to desired dims. \n",
    "print(a)\n",
    "a = np.linspace( 0, 2, 10 )\n",
    "print(a)\n",
    "\n",
    "# print \"\\n2D Array\"\n",
    "a = np.array([(2,3,3),(4,5,6)])\n",
    "\n",
    "print \"\\n3D Array\"\n",
    "a = np.ones((2,4)) # ones (or zeros also available)\n",
    "a = np.zeros((2,4), dtype = int) # Specify array variable type\n",
    "a = np.ones((2,4,3)) # n-dimension (layers) array\n",
    "print a\n",
    "print \"No.Dimension : %f\" %(a.ndim)\n",
    "print \"Numel on each dim.: \" \n",
    "print a.shape\n",
    "print \"\\ntotal numel : %f\" %(a.size)\n",
    "print \"Array type: \"\n",
    "print a.dtype"
   ]
  },
  {
   "cell_type": "markdown",
   "metadata": {},
   "source": [
    "## Basic Operations "
   ]
  },
  {
   "cell_type": "code",
   "execution_count": 95,
   "metadata": {
    "collapsed": false
   },
   "outputs": [
    {
     "name": "stdout",
     "output_type": "stream",
     "text": [
      "[[8 6]\n",
      " [9 3]]\n",
      "\n",
      "\n",
      "[[0 1 2 3 4]\n",
      " [5 6 7 8 9]]\n",
      "\n",
      "Sums:\n",
      "[10 35]\n",
      "[[ 0  1  3  6 10]\n",
      " [ 5 11 18 26 35]]\n"
     ]
    }
   ],
   "source": [
    "a = np.array([(2,3),(1,4)])\n",
    "b = np.array([(1,3),(2,0)])\n",
    "\n",
    "# Multiplication\n",
    "a*b # Element wize\n",
    "print a.dot(b)# Matrix wize\n",
    "\n",
    "# Universal Operations\n",
    "b = np.arange(5)\n",
    "c = np.exp(b) \n",
    "c = np.sqrt(b)\n",
    "z = np.add(b,c)\n",
    "\n",
    "# Apply standar list operactions\n",
    "# General\n",
    "d = np.arange(10)\n",
    "d.sum()\n",
    "d.min()\n",
    "d.max()\n",
    "\n",
    "# Specific Axis\n",
    "e = np.arange(0,10).reshape(2,5)\n",
    "print \"\\n\"\n",
    "print e\n",
    "\n",
    "print \"\\nSums:\"\n",
    "print e.sum(axis=1)\n",
    "print e.cumsum(axis=1) # cumulative sum along axis\n"
   ]
  }
 ],
 "metadata": {
  "kernelspec": {
   "display_name": "Python 2",
   "language": "python",
   "name": "python2"
  },
  "language_info": {
   "codemirror_mode": {
    "name": "ipython",
    "version": 2
   },
   "file_extension": ".py",
   "mimetype": "text/x-python",
   "name": "python",
   "nbconvert_exporter": "python",
   "pygments_lexer": "ipython2",
   "version": "2.7.11"
  }
 },
 "nbformat": 4,
 "nbformat_minor": 0
}
