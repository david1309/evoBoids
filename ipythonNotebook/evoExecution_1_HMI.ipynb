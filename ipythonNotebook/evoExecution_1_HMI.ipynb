{
 "cells": [
  {
   "cell_type": "markdown",
   "metadata": {},
   "source": [
    "# Run boids simulation (Predator Main test)"
   ]
  },
  {
   "cell_type": "code",
   "execution_count": 27,
   "metadata": {
    "collapsed": false,
    "scrolled": false
   },
   "outputs": [],
   "source": [
    "import os\n",
    "filepath='C:\\Users\\IVAN\\Desktop\\evoBoids\\evoBoids Code\\Pure HMI'\n",
    "os.chdir(filepath)\n",
    "\n",
    "# *** Random Individual ***\n",
    "# %run boidsSimuP.py 30 0.04 0.63 0.90 50.0 10 5 1 20\n",
    "\n",
    "# *** (EVOLVED) Individual that groups in a swarm and follows leader ***\n",
    "%run boidsSimuHMI.py 1.90e+02 15.71e-02 1.00e+00 7.41e-01 3.02e+01 5.783e+00 5 3 1 600\n",
    "# neighRadii  cohW  repW  alignW  crowdingThr  leaderW  preadatorW  guiderW  visualON  timeOutT\n",
    "# Original Chromesome: 1.50e+02 2.71e-02 1.00e+00 7.41e-01 3.02e+01 5.783e+00"
   ]
  },
  {
   "cell_type": "markdown",
   "metadata": {},
   "source": [
    "# ScratchPad"
   ]
  },
  {
   "cell_type": "code",
   "execution_count": null,
   "metadata": {
    "collapsed": false
   },
   "outputs": [],
   "source": [
    "# import pygame\n",
    "# pygame.font.get_fonts() \n",
    "# leadContExist = ('leadContAgent' in locals() or 'leadContAgent' in globals())"
   ]
  },
  {
   "cell_type": "markdown",
   "metadata": {},
   "source": [
    "# Useful CodeNotes "
   ]
  },
  {
   "cell_type": "code",
   "execution_count": null,
   "metadata": {
    "collapsed": false
   },
   "outputs": [],
   "source": [
    "------------------------------------------------------------------------\n",
    "------------------------------------------------------------------------\n",
    "\n",
    "* Play with: \n",
    "\n",
    "------------------------------------------------------------------------\n",
    "------------------------------------------------------------------------\n",
    "\n",
    "* ToDo:\n",
    "    \n",
    "------------------------------------------------------------------------\n",
    "------------------------------------------------------------------------\n",
    "\n",
    "* To Commit\n",
    "\n",
    "Better Camara coords re-mapping\n",
    "\n",
    "    > Changes @evoBoidsHMI \n",
    "    \n",
    "        >> Better Camara coords re-mapping - Instead of using ackward non-sense equation to re map the coords. returned\n",
    "        by the camera - to - coords. in the virtual simulation environment. Now the remapping can easily be done using\n",
    "        a linear equation Y = m*x + b => simuCoord = m*camCoord + b. Such equations maps Xmin/Ymin and Xmax/Ymax camara\n",
    "        values to Xmin/Ymin (which are zero) and Xmax/Ymax simulation values\n",
    "        \n",
    "        >> Because of the above to calibrate the camara so thats its min/max coord values are consistant with the min/max coord\n",
    "        values of the simulation. Simply obtain (by printing 'pose' variable ) what are the min/max value in X and Y and introduce\n",
    "        such values in the 'camX' and 'camY' vectors.\n",
    "------------------------------------------------------------------------\n",
    "------------------------------------------------------------------------"
   ]
  }
 ],
 "metadata": {
  "kernelspec": {
   "display_name": "Python 2",
   "language": "python",
   "name": "python2"
  },
  "language_info": {
   "codemirror_mode": {
    "name": "ipython",
    "version": 2
   },
   "file_extension": ".py",
   "mimetype": "text/x-python",
   "name": "python",
   "nbconvert_exporter": "python",
   "pygments_lexer": "ipython2",
   "version": "2.7.11"
  }
 },
 "nbformat": 4,
 "nbformat_minor": 0
}
