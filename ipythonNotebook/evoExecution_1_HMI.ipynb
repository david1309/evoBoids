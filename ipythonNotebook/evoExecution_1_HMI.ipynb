{
 "cells": [
  {
   "cell_type": "markdown",
   "metadata": {},
   "source": [
    "# Run boids simulation (Predator Main test)"
   ]
  },
  {
   "cell_type": "code",
   "execution_count": 27,
   "metadata": {
    "collapsed": false,
    "scrolled": false
   },
   "outputs": [],
   "source": [
    "import os\n",
    "filepath='C:\\Users\\IVAN\\Desktop\\evoBoids\\evoBoids Code\\Pure HMI'\n",
    "os.chdir(filepath)\n",
    "\n",
    "# *** Random Individual ***\n",
    "# %run boidsSimuP.py 30 0.04 0.63 0.90 50.0 10 5 1 20\n",
    "\n",
    "# *** (EVOLVED) Individual that groups in a swarm and follows leader ***\n",
    "%run boidsSimuHMI.py 1.90e+02 15.71e-02 1.00e+00 7.41e-01 3.02e+01 5.783e+00 5 3 1 600\n",
    "# neighRadii  cohW  repW  alignW  crowdingThr  leaderW  preadatorW  guiderW  visualON  timeOutT\n",
    "# Original Chromesome: 1.50e+02 2.71e-02 1.00e+00 7.41e-01 3.02e+01 5.783e+00"
   ]
  },
  {
   "cell_type": "markdown",
   "metadata": {},
   "source": [
    "# ScratchPad"
   ]
  },
  {
   "cell_type": "code",
   "execution_count": null,
   "metadata": {
    "collapsed": false
   },
   "outputs": [],
   "source": [
    "# import pygame\n",
    "# pygame.font.get_fonts() \n",
    "# leadContExist = ('leadContAgent' in locals() or 'leadContAgent' in globals())"
   ]
  },
  {
   "cell_type": "markdown",
   "metadata": {},
   "source": [
    "# Useful CodeNotes "
   ]
  },
  {
   "cell_type": "code",
   "execution_count": null,
   "metadata": {
    "collapsed": false
   },
   "outputs": [],
   "source": [
    "------------------------------------------------------------------------\n",
    "------------------------------------------------------------------------\n",
    "\n",
    "* Play with: \n",
    "\n",
    "------------------------------------------------------------------------\n",
    "------------------------------------------------------------------------\n",
    "\n",
    "* ToDo:\n",
    "    \n",
    "------------------------------------------------------------------------\n",
    "------------------------------------------------------------------------\n",
    "\n",
    "* To Commit\n",
    "\n",
    "New Pointer Gesture robot Control method\n",
    "\n",
    "    > Changes @simplePointer && @virtualPointerRealEpuck\n",
    "    \n",
    "        >>  Pointer Robot Control: New simple but really effective (solved a lot of bugs and problems) gesture control, which\n",
    "            computing the distance (in the Y and X axis) between the right shoulder and the right hand controles the robot. A\n",
    "            new ASEBA code was created which by changing the speed of the wheels controls the robot with the 4 types of commands\n",
    "             >>> LHand over your head -> START/STOP Robot control (init/deelete ASEBASwitch connection)\n",
    "             >>> RHand significantly below Rshoulder (i.e. resting position) -> STOP Robot\n",
    "             >>> RHand aligned w/ Rshoulder (i.e. pointing stright) -> Straight motion\n",
    "             >>> RHand slightly to the right of Rshoulder (i.e. pointing right) -> Clock Wize rotational motion\n",
    "             >>> RHand slightly to the left of Rshoulder (i.e. pointing left) -> Counter Clock Wize rotational motion\n",
    "                \n",
    "        >> The new controller solved the problem of:\n",
    "            >>> Creating Other Gesture control : this was needed since even though the virtualjoystick method was good,  for angles\n",
    "                in the 2 and 3 quadrant it became really uncomftable OR when only using a static initialPosition, the user lost track\n",
    "                of such initialposition. Making it difficult to know which angles was one indicating with the position of the Rhand.\n",
    "                With the new Pointer methods theres no need to compute angles or speeds, it simply relies in 4 commands and Voila !\n",
    "            >>> Coding an other Odometry method : since the current odometry method was fully open loop (based on the ellapsed time \n",
    "                estimated the angle that the robot had to move :| :| ) it was really un accurrate and in a matter of seconds got worst.\n",
    "                The new method doesnt requiere any odometry, since it doesnt need to move to an exact angles, it simply turns lef,right,\n",
    "                goes straight or stops\n",
    "                \n",
    "         >>  Kinect erroneous disconnection: While controlling the robot, an error eventually occured producing the disconnection \n",
    "            between the Kinect and ASEBASwitch, causing the user to loose control of the Robot. The Bug Hypothesisis that ASEBASwitch\n",
    "            for WINDOWS !!!doesnt correctly move data out of its buffer once a stream ( command ) hast been sent to ASEBAStudio. This \n",
    "            causes the buffer to eventually exceed its size causing an \"error while writing\" error. In the new pointerGesture code a\n",
    "            @machete@ was implemented. Theres a variables which counts the total number of emmited commands. When N - number of \n",
    "            commands have been emited, the connection between Kinect Client and ASEBASwitch is reset. This totally prevents the user\n",
    "            from lossing control and connection) with the Robot !!! (this bug had been in the project for about 3 months :D :D :D)\n",
    "\n",
    "------------------------------------------------------------------------\n",
    "------------------------------------------------------------------------"
   ]
  }
 ],
 "metadata": {
  "kernelspec": {
   "display_name": "Python 2",
   "language": "python",
   "name": "python2"
  },
  "language_info": {
   "codemirror_mode": {
    "name": "ipython",
    "version": 2
   },
   "file_extension": ".py",
   "mimetype": "text/x-python",
   "name": "python",
   "nbconvert_exporter": "python",
   "pygments_lexer": "ipython2",
   "version": "2.7.11"
  }
 },
 "nbformat": 4,
 "nbformat_minor": 0
}
