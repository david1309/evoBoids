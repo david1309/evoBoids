{
 "cells": [
  {
   "cell_type": "markdown",
   "metadata": {},
   "source": [
    "# Run boids simulation (Predator Main test)"
   ]
  },
  {
   "cell_type": "code",
   "execution_count": 14,
   "metadata": {
    "collapsed": false,
    "scrolled": false
   },
   "outputs": [],
   "source": [
    "import os\n",
    "filepath='C:\\Users\\IVAN\\Desktop\\evoBoids\\evoBoids Code\\Pure HMI'\n",
    "os.chdir(filepath)\n",
    "\n",
    "# *** Random Individual ***\n",
    "# %run boidsSimuP.py 30 0.04 0.63 0.90 50.0 10 5 1 20\n",
    "\n",
    "# *** (EVOLVED) Individual that groups in a swarm and follows leader ***\n",
    "%run boidsSimuHMI.py 1.50e+02 5.71e-02 1.00e+00 7.41e-01 3.02e+01 5.783e+00 3 3 1 600\n",
    "# Original Chromesome: 1.50e+02 2.71e-02 1.00e+00 7.41e-01 3.02e+01 5.783e+00"
   ]
  },
  {
   "cell_type": "markdown",
   "metadata": {},
   "source": [
    "# ScratchPad"
   ]
  },
  {
   "cell_type": "code",
   "execution_count": null,
   "metadata": {
    "collapsed": false
   },
   "outputs": [],
   "source": [
    "# import pygame\n",
    "# pygame.font.get_fonts() \n",
    "# leadContExist = ('leadContAgent' in locals() or 'leadContAgent' in globals())"
   ]
  },
  {
   "cell_type": "markdown",
   "metadata": {},
   "source": [
    "# Useful CodeNotes "
   ]
  },
  {
   "cell_type": "code",
   "execution_count": null,
   "metadata": {
    "collapsed": false
   },
   "outputs": [],
   "source": [
    "------------------------------------------------------------------------\n",
    "------------------------------------------------------------------------\n",
    "\n",
    "* Play with: \n",
    "    >> boidsSimu -->  predSight,velBoost,deltaBoost,maxVel\n",
    "                      Others --> noBoids, noAutoPred, noAutoLead maxDeltaVel\n",
    "\n",
    "------------------------------------------------------------------------\n",
    "------------------------------------------------------------------------\n",
    "\n",
    "* ToDo:\n",
    "    >> IMPROVE: how guider agents make the desicion either to wait for other boids or to\n",
    "    go towards the GOAl\n",
    "    >> Obsacle timer: obstacle reamin for a limited time. After the time runs out they disappear\n",
    "    and are restored as available resources\n",
    "    >>>>>>>>>>>>>>>>>>>>>>>>>>>>>>>>>>>>>>>>>>>>>>>>>>>>>>>>>>>\n",
    "    >> predatorAgent can kill leaderAgent if not surrounded by > N-casual boids\n",
    "    >> Give controlledLeader  revival capabilities. Its probability of performing a revival action\n",
    "    increases proportional to the ammount of agents that surround hi, (this, to not make it so \n",
    "    straight forward to revive a dead agent)         \n",
    "    >>>>>>>>>>>>>>>>>>>>>>>>>>>>>>>>>>>>>>>>>>>>>>>>>>>>>>>>>>>\n",
    "    >> change condition that reduces persistance leve, to a condition which depends on the  \n",
    "    no. of times predator adquires hunting behavior(i.e.move reduction to 'move2center')\n",
    "    \n",
    "------------------------------------------------------------------------\n",
    "------------------------------------------------------------------------\n",
    "    \n",
    "* Game Plays:\n",
    "    > As Leader:\n",
    "        >> Full Game : Guide the Swarm + Slight Defense + Assisted Revival      \n",
    "        >> Revive the Swarm (enabling controleLeader revival)\n",
    "        >> Defend the Swarm (increasing factP2L)\n",
    "        \n",
    "    > As Predator:                \n",
    "        >> Hunt the Swarm : win agains autonomous assistantAgents\n",
    "        >> combatGuiderAgent\n",
    "    \n",
    "    > Other:    \n",
    "        >> Autonomatic (no user) \n",
    "        \n",
    "------------------------------------------------------------------------\n",
    "------------------------------------------------------------------------\n",
    "\n",
    "* To Commit\n",
    "\n",
    "Gameplay Combination && NEW GAMEPLAY: go from A-B && obstacles positioning && gravity motion\n",
    "    \n",
    "    > Depredator simulation (@boidsSimuAB.py):\n",
    "        \n",
    "        >>  \n",
    "        \n",
    "------------------------------------------------------------------------\n",
    "------------------------------------------------------------------------"
   ]
  }
 ],
 "metadata": {
  "kernelspec": {
   "display_name": "Python 2",
   "language": "python",
   "name": "python2"
  },
  "language_info": {
   "codemirror_mode": {
    "name": "ipython",
    "version": 2
   },
   "file_extension": ".py",
   "mimetype": "text/x-python",
   "name": "python",
   "nbconvert_exporter": "python",
   "pygments_lexer": "ipython2",
   "version": "2.7.11"
  }
 },
 "nbformat": 4,
 "nbformat_minor": 0
}
