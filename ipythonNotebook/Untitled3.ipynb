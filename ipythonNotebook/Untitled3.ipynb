{
 "cells": [
  {
   "cell_type": "code",
   "execution_count": null,
   "metadata": {
    "collapsed": false
   },
   "outputs": [
    {
     "name": "stdout",
     "output_type": "stream",
     "text": [
      "Do you want to load a SeedPopuation: [1:Yes ; 0:No]1\n",
      "Press ENTER to Load evoLog_try6.pck logFile or input the number of the desired logFile: 5\n",
      "\n",
      "Estimated Evolution time: 15750.000000 s  ... Press Enter to continue ...\n",
      "\n",
      "14.7\n",
      "13.3636363636\n",
      "14.5\n",
      "14.25\n",
      "13.0689655172\n",
      "0.0"
     ]
    }
   ],
   "source": [
    "import os\n",
    "filepath='C:\\Users\\IVAN\\Desktop\\evoBoids\\evoBoids Code'\n",
    "os.chdir(filepath)\n",
    "\n",
    "%run evoBoids.py"
   ]
  }
 ],
 "metadata": {
  "kernelspec": {
   "display_name": "Python 2",
   "language": "python",
   "name": "python2"
  },
  "language_info": {
   "codemirror_mode": {
    "name": "ipython",
    "version": 2
   },
   "file_extension": ".py",
   "mimetype": "text/x-python",
   "name": "python",
   "nbconvert_exporter": "python",
   "pygments_lexer": "ipython2",
   "version": "2.7.11"
  }
 },
 "nbformat": 4,
 "nbformat_minor": 0
}
