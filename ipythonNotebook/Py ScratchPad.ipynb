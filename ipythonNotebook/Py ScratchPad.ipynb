{
 "cells": [
  {
   "cell_type": "markdown",
   "metadata": {},
   "source": [
    "# Py ScratchPad \n",
    "**David C. Alvarez - Charris**   "
   ]
  },
  {
   "cell_type": "markdown",
   "metadata": {},
   "source": [
    "# Ditionaries "
   ]
  },
  {
   "cell_type": "code",
   "execution_count": 16,
   "metadata": {
    "collapsed": false
   },
   "outputs": [
    {
     "name": "stdout",
     "output_type": "stream",
     "text": [
      "{'hello': 3, 5: 'bonjour'}\n",
      "1\n",
      "3\n",
      "5\n"
     ]
    }
   ],
   "source": [
    "dic = {'hello':3, 5: 'bonjour'}\n",
    "dic.keys()\n",
    "print dic\n",
    "\n",
    "x = [[1,2],[3,4],[5,6]]\n",
    "for i in x:\n",
    "    print i[0]"
   ]
  },
  {
   "cell_type": "code",
   "execution_count": null,
   "metadata": {
    "collapsed": true
   },
   "outputs": [],
   "source": [
    "listOflist = [[2,3],[3,4]]\n",
    "listOflist[1][1]"
   ]
  },
  {
   "cell_type": "markdown",
   "metadata": {},
   "source": [
    "# Run evoBoids COMMAND: "
   ]
  },
  {
   "cell_type": "code",
   "execution_count": null,
   "metadata": {
    "collapsed": false
   },
   "outputs": [],
   "source": [
    "run pyEvoBoids_V0.py 150.0 0.04 0.23 0.20 10.0 0.20 1 3600"
   ]
  },
  {
   "cell_type": "markdown",
   "metadata": {},
   "source": [
    "# Strange Elapsed Time shit "
   ]
  },
  {
   "cell_type": "code",
   "execution_count": null,
   "metadata": {
    "collapsed": false
   },
   "outputs": [],
   "source": [
    "fact = 1\n",
    "initT = datetime.now().time()\n",
    "print initT\n",
    "\n",
    "raw_input()\n",
    "\n",
    "currentT = datetime.now().time()\n",
    "print currentT\n",
    "h = (currentT.hour - initT.hour)*3600.0*fact \n",
    "print h\n",
    "m = (currentT.minute-initT.minute)*60.0*fact \n",
    "print m\n",
    "s = (currentT.second-initT.second)*1.0*fact\n",
    "print s\n",
    "\n",
    "t = h + m + s\n",
    "print t"
   ]
  },
  {
   "cell_type": "markdown",
   "metadata": {},
   "source": [
    "# Mouse Pausing  - PyGame"
   ]
  },
  {
   "cell_type": "code",
   "execution_count": null,
   "metadata": {
    "collapsed": false
   },
   "outputs": [],
   "source": [
    "import pygame,sys\n",
    "scenarioSize = width,height = 800,600 #scenario dimensions  \n",
    "scenario = pygame.display.set_mode(scenarioSize)  \n",
    "\n",
    "              \n",
    "while(1):\n",
    "    for event in pygame.event.get():\n",
    "        if event.type == pygame.QUIT: sys.exit()\n",
    "    mouse = pygame.mouse.get_pressed()\n",
    "    if not mouse[0]:      \n",
    "        print \"play\"\n",
    "        pygame.time.delay(500)\n",
    "    else:\n",
    "        print \"PAUSED\"\n",
    "        while (mouse[0]):\n",
    "            for event in pygame.event.get():\n",
    "                if event.type == pygame.QUIT: sys.exit()\n",
    "            mouse = pygame.mouse.get_pressed()\n",
    "            print mouse[0]\n",
    "            pygame.time.delay(500)\n",
    "    \n",
    "    scenario.fill((0,0,0)) # fill scenario with RGB color\n",
    "    pygame.display.flip()\n",
    "    pygame.time.delay(10)"
   ]
  },
  {
   "cell_type": "markdown",
   "metadata": {},
   "source": [
    "# Evolutionary Selection"
   ]
  },
  {
   "cell_type": "code",
   "execution_count": 1,
   "metadata": {
    "collapsed": true
   },
   "outputs": [
    {
     "name": "stdout",
     "output_type": "stream",
     "text": [
      "[ 0.5         0.16666667  0.33333333]\n",
      "0.715663301353\n",
      "[[ 0.          0.5       ]\n",
      " [ 0.51        0.66666667]\n",
      " [ 0.67666667  1.        ]\n",
      " [ 0.          0.        ]]\n",
      "2\n",
      "[[[  1.00000000e+001   2.50022090e-315]\n",
      "  [  2.00000000e+001   2.81054302e-316]\n",
      "  [  3.00000000e+001   1.89549115e-316]\n",
      "  [  4.00000000e+001   3.13736705e-316]\n",
      "  [  3.00000000e+000   3.20739077e-316]]\n",
      "\n",
      " [[  1.00000000e+001   3.20742635e-316]\n",
      "  [  2.00000000e+001   3.13735400e-316]\n",
      "  [  3.00000000e+001   1.89548996e-316]\n",
      "  [  4.00000000e+001   1.89549234e-316]\n",
      "  [  1.00000000e+000   3.13737891e-316]]\n",
      "\n",
      " [[  1.00000000e+001   3.20761488e-316]\n",
      "  [  2.00000000e+001   3.19133246e-316]\n",
      "  [  3.00000000e+001   2.02988728e-316]\n",
      "  [  4.00000000e+001   2.77667264e-316]\n",
      "  [  2.00000000e+000   1.87865774e-316]]]\n"
     ]
    }
   ],
   "source": [
    "import random as rand\n",
    "import numpy as np\n",
    "scenarioSize = width,height = 800,600 #scenario dimensions\n",
    "geneRange = {'neighRadii':[0,min(scenarioSize)/2] , 'cohW':[0.0,1.0], 'repW':[0.0,1.0],\\\n",
    "             'alignW':[0.0,1.0],'crowdingThr':[0.0,min(scenarioSize)/2], 'leaderW':[0.0,30.0]}\n",
    "popSize = 3 # Population Size\n",
    "generations = 2 # Number of Evolution generations\n",
    "# Population History: layer-> generation; Row-> indiviual; Col -> gene\n",
    "popHist = np.empty((popSize,len(geneRange),generations)) \n",
    "\n",
    "# Fitness Weights\n",
    "fitWeights = interCollW, medGRadiiW, deltaTW,t2GoalW = 1.0/4,1.0/4,1.0/4,1.0/4\n",
    "fitWeights = np.array([fitWeights])\n",
    "fitHist = np.empty((popSize,fitWeights.shape[1]+1,generations)) \n",
    "\n",
    "fitVals = np.array([[10.0,20.0,30.0,40.0]])\n",
    "fitness = fitWeights.dot(fitVals.transpose()) # Linear Combination Fitness Function\n",
    "# print fitness\n",
    "# print fitness.shape\n",
    "\n",
    "# print fitHist.shape\n",
    "# print fitVals.shape\n",
    "# print fitVals\n",
    "# fitVals.resize(fitVals.shape[0],fitVals.shape[1]+1)\n",
    "# print fitVals.shape\n",
    "# fitVals[0,-1] = fitness\n",
    "# print fitVals.shape\n",
    "# print fitVals\n",
    "# print fitVals.shape\n",
    "# print fitness.shape\n",
    "# print fitHist.shape\n",
    "fitness = np.array([[3]])\n",
    "fitHist[0,:,0] = np.concatenate((fitVals,fitness),axis=1)\n",
    "fitness = np.array([[1]])\n",
    "fitHist[1,:,0] = np.concatenate((fitVals,fitness),axis=1)\n",
    "fitness = np.array([[2]])\n",
    "fitHist[2,:,0] = np.concatenate((fitVals,fitness),axis=1)\n",
    "# print fitHist\n",
    "\n",
    "selectProb = np.divide(fitHist[:,-1,0] , np.sum(fitHist[:,-1,0]))\n",
    "print selectProb\n",
    "interval = np.zeros((fitHist.shape[0]+1,2))\n",
    "import random as rand\n",
    "dart = rand.uniform(0,1)\n",
    "print dart\n",
    "for ind in range(interval.shape[0]-1):\n",
    "    selectProb[ind]\n",
    "    interval[ind,:] =[interval[ind-1,1]+0.01,interval[ind-1,1]+selectProb[ind]]\n",
    "    interval[0,0] = 0.0\n",
    "    if(dart>=interval[ind,0] and dart<=interval[ind,1] ):\n",
    "        selected = ind\n",
    "print interval\n",
    "print selected\n",
    "        \n",
    "# interval[0,0] -= 0.01\n",
    "# interval = interval[0:interval.shape[0]-1]\n",
    "# print interval\n",
    "\n",
    "print fitHist\n",
    "\n",
    "# for "
   ]
  },
  {
   "cell_type": "markdown",
   "metadata": {},
   "source": [
    "# Interval evolutionary FPS "
   ]
  },
  {
   "cell_type": "code",
   "execution_count": null,
   "metadata": {
    "collapsed": false
   },
   "outputs": [],
   "source": [
    "def roulette (probRand,popSize,fitHist,generation):  \n",
    "    selectProb = np.divide(fitHist[:,-1,generation] , np.sum(fitHist[:,-1,generation]))    \n",
    "    interval = np.zeros((popSize+1,2))    \n",
    "    \n",
    "    # Create Roulette (Probabilities percentage for each individual)\n",
    "    for ind in range(popSize):\n",
    "        interval[ind,:] =[interval[ind-1,1]+0.01,interval[ind-1,1]+selectProb[ind]]\n",
    "        interval[0,0] = 0.0\n",
    "    print \"interval\"\n",
    "    print interval\n",
    "    raw_input()\n",
    "    \n",
    "    selected = []\n",
    "    while(len(selected)<popSize):\n",
    "        print \"selected : \"\n",
    "        print selected\n",
    "        raw_input()\n",
    "        \n",
    "        randORroul = rand.uniform(0.0,1.0) \n",
    "        print \"randORroul : %f\" %randORroul\n",
    "        raw_input()\n",
    "        if randORroul > probRand: # Roulette parent selection\n",
    "            dart = rand.uniform(0,1)\n",
    "            print \"dart : %f\" %dart\n",
    "            raw_input()\n",
    "            for ind in range(popSize):  \n",
    "                print \"greater than\"\n",
    "                print dart>=interval[ind,0]\n",
    "                print \"less than\"\n",
    "                print dart<=interval[ind,1]\n",
    "                if(dart>=interval[ind,0] and dart<=interval[ind,1] and ind not in selected ):\n",
    "                    selected.append(ind)\n",
    "                    continue\n",
    "\n",
    "        else: # Random parent selection\n",
    "            while(1): # do - while loop\n",
    "                ind = rand.randint(0,popSize)\n",
    "                print \"radom ind: %d\" %ind\n",
    "                raw_input()\n",
    "                if(ind not in selected):\n",
    "                    selected.append(ind)\n",
    "                    break\n",
    "    print \"END:\"\n",
    "    print selected\n",
    "    return selected\n",
    "popSize = 3\n",
    "s = roulette(0.5,popSize,fitHist,0)\n",
    "print s"
   ]
  },
  {
   "cell_type": "markdown",
   "metadata": {},
   "source": [
    "# CDF Evolutionary FPS"
   ]
  },
  {
   "cell_type": "code",
   "execution_count": 4,
   "metadata": {
    "collapsed": true
   },
   "outputs": [
    {
     "name": "stdout",
     "output_type": "stream",
     "text": [
      "selectProb :\n",
      "[ 0.5         0.83333333  1.        ]\n",
      "dart: 0.680737\n",
      "ind : 1\n",
      "\n",
      "couple : \n",
      "[1]\n",
      "\n",
      "dart: 0.928218\n",
      "ind : 2\n",
      "\n",
      "couple : \n",
      "[1, 2]\n",
      "\n",
      "selected :\n",
      "[[1, 2]]\n",
      "\n",
      "dart: 0.016734\n",
      "ind : 0\n",
      "\n",
      "couple : \n",
      "[0]\n",
      "\n",
      "dart: 0.212348\n",
      "ind : 0\n",
      "\n",
      "couple : \n",
      "[0]\n",
      "\n",
      "dart: 0.112701\n",
      "ind : 0\n",
      "\n",
      "couple : \n",
      "[0]\n",
      "\n",
      "dart: 0.842988\n",
      "ind : 2\n",
      "\n",
      "couple : \n",
      "[0, 2]\n",
      "\n",
      "selected :\n",
      "[[1, 2], [0, 2]]\n",
      "\n",
      "dart: 0.728281\n",
      "ind : 1\n",
      "\n",
      "couple : \n",
      "[1]\n",
      "\n",
      "dart: 0.321321\n",
      "ind : 0\n",
      "\n",
      "couple : \n",
      "[1, 0]\n",
      "\n",
      "selected :\n",
      "[[1, 2], [0, 2], [1, 0]]\n",
      "\n",
      "[[1, 2], [0, 2], [1, 0]]\n"
     ]
    }
   ],
   "source": [
    "def roulette (probRand,numCouples,popSize,fitHist,generation): \n",
    "    selectProb = np.zeros((popSize+1))\n",
    "    selectProb[1:] = np.divide(fitHist[:,-1,generation] , np.sum(fitHist[:,-1,generation]))\n",
    "    selectProb[1:] = -np.sort(-selectProb[1:]) # sort descending\n",
    "        \n",
    "    # Create Roulette (Probabilities percentage for each individual)\n",
    "    for i in range(popSize):\n",
    "        selectProb[i+1] = selectProb[i]+selectProb[i+1]\n",
    "    selectProb = np.delete(selectProb,0)\n",
    "    print \"selectProb :\"\n",
    "    print selectProb\n",
    "    \n",
    "    couple = []\n",
    "    selected = []\n",
    "    while(len(selected)<numCouples):\n",
    "        while(len(couple)<2):\n",
    "            dart = rand.uniform(0,1)\n",
    "            print \"dart: %f\" %dart\n",
    "            ind = np.where(selectProb>=dart)[0][0]\n",
    "            print \"ind : %d\" %ind\n",
    "            raw_input()\n",
    "            if(ind not in couple):\n",
    "                couple.append(ind)\n",
    "            print \"couple : \"\n",
    "            print couple\n",
    "            raw_input()\n",
    "        \n",
    "        selected.append(couple)\n",
    "        couple = []\n",
    "        print \"selected :\"\n",
    "        print selected\n",
    "        raw_input()\n",
    "    return selected\n",
    "    \n",
    "s = roulette(0.5,popSize,popSize,fitHist,0)\n",
    "print s\n",
    "\n",
    "\n",
    "\n",
    "\n",
    "\n",
    "\n",
    "\n",
    "\n",
    "\n",
    "\n",
    "\n",
    "\n",
    "\n"
   ]
  },
  {
   "cell_type": "code",
   "execution_count": 13,
   "metadata": {
    "collapsed": false
   },
   "outputs": [
    {
     "name": "stdout",
     "output_type": "stream",
     "text": [
      "0.0\n"
     ]
    }
   ],
   "source": [
    "x = float(\"inf\")\n",
    "print 1/x"
   ]
  }
 ],
 "metadata": {
  "kernelspec": {
   "display_name": "Python 2",
   "language": "python",
   "name": "python2"
  },
  "language_info": {
   "codemirror_mode": {
    "name": "ipython",
    "version": 2
   },
   "file_extension": ".py",
   "mimetype": "text/x-python",
   "name": "python",
   "nbconvert_exporter": "python",
   "pygments_lexer": "ipython2",
   "version": "2.7.11"
  }
 },
 "nbformat": 4,
 "nbformat_minor": 0
}
