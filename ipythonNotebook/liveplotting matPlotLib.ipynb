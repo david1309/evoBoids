{
 "cells": [
  {
   "cell_type": "markdown",
   "metadata": {},
   "source": [
    "# Live Data plotting using Pyplot (matplotlib) \n",
    "[Live ploting Example - 1](http://stackoverflow.com/questions/16446443/live-updating-with-matplotlib)  \n",
    "[Live ploting Example - 2](http://stackoverflow.com/questions/10944621/dynamically-updating-plot-in-matplotlib)  \n",
    "[Set color cycling in plots](http://stackoverflow.com/questions/16006572/plotting-different-colors-in-matplotlib)\n",
    "[extract data from matplotlib plot](http://stackoverflow.com/questions/8938449/how-to-extract-data-from-matplotlib-plot)  \n",
    "[Axis Limits](http://stackoverflow.com/questions/11744990/how-to-set-auto-for-upper-limit-but-keep-a-fixed-lower-limit-with-matplotlib)  "
   ]
  },
  {
   "cell_type": "code",
   "execution_count": null,
   "metadata": {
    "collapsed": false
   },
   "outputs": [],
   "source": [
    "import pylab as plt\n",
    "import numpy as np\n",
    "X = np.linspace(0,2,1000)\n",
    "Y = X**2 + np.random.random(X.shape)\n",
    "\n",
    "plt.ion()\n",
    "graph = plt.plot(X,Y)[0] # this automatically sets the axis\n",
    "i = 0\n",
    "while i<30: # ONLY updating y data, and leaving the previoslly ploted X data\n",
    "    Y = X**2 + np.random.random(X.shape)\n",
    "    graph.set_ydata(Y)\n",
    "    plt.draw()\n",
    "    plt.pause(0.05)\n",
    "    i+= 1\n",
    "plt.close()  "
   ]
  },
  {
   "cell_type": "code",
   "execution_count": null,
   "metadata": {
    "collapsed": false
   },
   "outputs": [],
   "source": [
    "import pylab as plt\n",
    "import numpy as np\n",
    "\n",
    "X = np.linspace(0,2,1000)\n",
    "Y = X**2 + np.random.random(X.shape)\n",
    "plt.axis([0, max(X), 0, 5])\n",
    "\n",
    "# plt.ion()\n",
    "graph, = plt.plot([],[]) # returns a tuple of the added lines(graphs)\n",
    "i = 0\n",
    "while i<10:  # updating X and Y data and manually concatenating (updating) X and Y content\n",
    "             # Axis limits have to mbe specified\n",
    "    Y = X**2 + np.random.random(X.shape)\n",
    "    graph.set_ydata(Y)\n",
    "    graph.set_xdata(X)\n",
    "    plt.draw()\n",
    "    plt.pause(0.05)\n",
    "    i +=1\n",
    "plt.close()    \n"
   ]
  },
  {
   "cell_type": "code",
   "execution_count": null,
   "metadata": {
    "collapsed": false
   },
   "outputs": [],
   "source": [
    "# plt.gca().set_ylim(top=1.)\n",
    "import pylab as plt\n",
    "import numpy as np\n",
    "\n",
    "plt.ion()\n",
    "graph, = plt.plot([], [])\n",
    "\n",
    "## SET BOTH AXIS LIMIT\n",
    "# plt.axis([0, 30, 0, 30**2])\n",
    "\n",
    "## ONLY SET ONE AXIS LIMIT\n",
    "plt.gca().set_xlim(0,30)\n",
    "\n",
    "i = 0\n",
    "while i<30: # updating X and Y data, using the '.get_xdata' to concatanate X and Y data\n",
    "            # Axis limits have to mbe specified\n",
    "    \n",
    "    graph.set_ydata(np.concatenate((graph.get_ydata(),[i**2])))\n",
    "    graph.set_xdata(np.concatenate((graph.get_xdata(),[i])))\n",
    "    plt.draw()\n",
    "    plt.pause(0.05)\n",
    "    \n",
    "    ## UPDATE INDIVIDUAL AXIS LIMITS\n",
    "    # This can solve the problem of NOT pre setting the axis\n",
    "#     plt.gca().set_xlim(0,max(graph.get_xdata()))\n",
    "    plt.gca().set_ylim(0,max(graph.get_ydata()))\n",
    "    i+=1\n",
    "plt.close()  "
   ]
  },
  {
   "cell_type": "code",
   "execution_count": null,
   "metadata": {
    "collapsed": false
   },
   "outputs": [],
   "source": [
    "import pylab as plt\n",
    "import numpy as np\n",
    "\n",
    "plt.ion()\n",
    "# plt.axis([0, 30, 0, 1])\n",
    "y = []\n",
    "x = []\n",
    "for i in range(30): # concatenating the complete array to plot (past data + new data)\n",
    "    y.append(np.random.random())\n",
    "    x.append(i)\n",
    "    plt.plot(x,y,'r-') #plt.scatter(x, y)\n",
    "    plt.pause(0.05)    \n",
    "    \n",
    "plt.close(1)"
   ]
  },
  {
   "cell_type": "code",
   "execution_count": null,
   "metadata": {
    "collapsed": false
   },
   "outputs": [],
   "source": [
    "# import pickle\n",
    "\n",
    "# f = open('evoLog.pckl', 'w')\n",
    "# pickle.dump(object, f)\n",
    "# f.close()\n",
    "\n",
    "# f = open('evoLog.pckl')\n",
    "# object = pickle.load(f)\n",
    "# f.close()\n",
    "\n",
    "    # time.sleep(1)\n",
    "    # \" Plot Fitness along generations\"\n",
    "    # genVect = np.arange(avgFitHist.shape[1]).reshape(1,generations)\n",
    "    # plt.plot(genVect[0,:],avgFitHist[0,:], 'r-')\n",
    "    # plt.axis([0, generations+1, 0, np.amax(avgFitHist)+np.amax(avgFitHist)*0.25])\n",
    "    # plt.show()"
   ]
  }
 ],
 "metadata": {
  "kernelspec": {
   "display_name": "Python 2",
   "language": "python",
   "name": "python2"
  },
  "language_info": {
   "codemirror_mode": {
    "name": "ipython",
    "version": 2
   },
   "file_extension": ".py",
   "mimetype": "text/x-python",
   "name": "python",
   "nbconvert_exporter": "python",
   "pygments_lexer": "ipython2",
   "version": "2.7.11"
  }
 },
 "nbformat": 4,
 "nbformat_minor": 0
}
